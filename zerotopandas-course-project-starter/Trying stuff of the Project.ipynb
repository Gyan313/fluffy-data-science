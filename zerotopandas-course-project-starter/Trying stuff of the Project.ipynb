{
 "cells": [
  {
   "cell_type": "markdown",
   "id": "23caf286",
   "metadata": {},
   "source": [
    "**Trying Stuff from the EDA(Exploratory Data Analysis) --- Indian Trade**"
   ]
  },
  {
   "cell_type": "markdown",
   "id": "53f188c7",
   "metadata": {},
   "source": [
    "..."
   ]
  },
  {
   "cell_type": "code",
   "execution_count": 1,
   "id": "233e0c8c",
   "metadata": {},
   "outputs": [],
   "source": [
    "import os"
   ]
  },
  {
   "cell_type": "code",
   "execution_count": 2,
   "id": "9e935495",
   "metadata": {},
   "outputs": [
    {
     "data": {
      "text/plain": [
       "['2010_2021_HS2_export.csv',\n",
       " '2010_2021_HS2_import.csv',\n",
       " '2018-2010_export.csv',\n",
       " '2018-2010_import.csv']"
      ]
     },
     "execution_count": 2,
     "metadata": {},
     "output_type": "execute_result"
    }
   ],
   "source": [
    "os.listdir('./india-trade-data/')"
   ]
  },
  {
   "cell_type": "code",
   "execution_count": 3,
   "id": "6590945b",
   "metadata": {},
   "outputs": [],
   "source": [
    "export_df_1 = pd.read_csv('./india-trade-data/2010_2021_HS2_export.csv')"
   ]
  },
  {
   "cell_type": "code",
   "execution_count": 2,
   "id": "112a17a9",
   "metadata": {},
   "outputs": [],
   "source": [
    "import pandas as pd"
   ]
  },
  {
   "cell_type": "code",
   "execution_count": 8,
   "id": "f19541f5",
   "metadata": {},
   "outputs": [
    {
     "name": "stderr",
     "output_type": "stream",
     "text": [
      "C:\\Users\\GYAN\\AppData\\Local\\Temp\\ipykernel_25136\\1976434588.py:1: SettingWithCopyWarning: \n",
      "A value is trying to be set on a copy of a slice from a DataFrame\n",
      "\n",
      "See the caveats in the documentation: https://pandas.pydata.org/pandas-docs/stable/user_guide/indexing.html#returning-a-view-versus-a-copy\n",
      "  export_df_1.value[3] =0.0\n"
     ]
    }
   ],
   "source": [
    "export_df_1.value[3] =0.0"
   ]
  },
  {
   "cell_type": "code",
   "execution_count": 9,
   "id": "9e5428d7",
   "metadata": {},
   "outputs": [
    {
     "data": {
      "text/html": [
       "<div>\n",
       "<style scoped>\n",
       "    .dataframe tbody tr th:only-of-type {\n",
       "        vertical-align: middle;\n",
       "    }\n",
       "\n",
       "    .dataframe tbody tr th {\n",
       "        vertical-align: top;\n",
       "    }\n",
       "\n",
       "    .dataframe thead th {\n",
       "        text-align: right;\n",
       "    }\n",
       "</style>\n",
       "<table border=\"1\" class=\"dataframe\">\n",
       "  <thead>\n",
       "    <tr style=\"text-align: right;\">\n",
       "      <th></th>\n",
       "      <th>HSCode</th>\n",
       "      <th>Commodity</th>\n",
       "      <th>value</th>\n",
       "      <th>country</th>\n",
       "      <th>year</th>\n",
       "    </tr>\n",
       "  </thead>\n",
       "  <tbody>\n",
       "    <tr>\n",
       "      <th>0</th>\n",
       "      <td>2</td>\n",
       "      <td>MEAT AND EDIBLE MEAT OFFAL.</td>\n",
       "      <td>1.40</td>\n",
       "      <td>AFGHANISTAN</td>\n",
       "      <td>2010</td>\n",
       "    </tr>\n",
       "    <tr>\n",
       "      <th>1</th>\n",
       "      <td>3</td>\n",
       "      <td>FISH AND CRUSTACEANS, MOLLUSCS AND OTHER AQUAT...</td>\n",
       "      <td>0.00</td>\n",
       "      <td>AFGHANISTAN</td>\n",
       "      <td>2010</td>\n",
       "    </tr>\n",
       "    <tr>\n",
       "      <th>2</th>\n",
       "      <td>4</td>\n",
       "      <td>DAIRY PRODUCE; BIRDS' EGGS; NATURAL HONEY; EDI...</td>\n",
       "      <td>3.89</td>\n",
       "      <td>AFGHANISTAN</td>\n",
       "      <td>2010</td>\n",
       "    </tr>\n",
       "    <tr>\n",
       "      <th>3</th>\n",
       "      <td>5</td>\n",
       "      <td>PRODUCTS OF ANIMAL ORIGIN, NOT ELSEWHERE SPECI...</td>\n",
       "      <td>0.00</td>\n",
       "      <td>AFGHANISTAN</td>\n",
       "      <td>2010</td>\n",
       "    </tr>\n",
       "    <tr>\n",
       "      <th>4</th>\n",
       "      <td>6</td>\n",
       "      <td>LIVE TREES AND OTHER PLANTS; BULBS; ROOTS AND ...</td>\n",
       "      <td>NaN</td>\n",
       "      <td>AFGHANISTAN</td>\n",
       "      <td>2010</td>\n",
       "    </tr>\n",
       "    <tr>\n",
       "      <th>...</th>\n",
       "      <td>...</td>\n",
       "      <td>...</td>\n",
       "      <td>...</td>\n",
       "      <td>...</td>\n",
       "      <td>...</td>\n",
       "    </tr>\n",
       "    <tr>\n",
       "      <th>184750</th>\n",
       "      <td>94</td>\n",
       "      <td>FURNITURE; BEDDING, MATTRESSES, MATTRESS SUPPO...</td>\n",
       "      <td>0.19</td>\n",
       "      <td>ZIMBABWE</td>\n",
       "      <td>2021</td>\n",
       "    </tr>\n",
       "    <tr>\n",
       "      <th>184751</th>\n",
       "      <td>95</td>\n",
       "      <td>TOYS, GAMES AND SPORTS REQUISITES; PARTS AND A...</td>\n",
       "      <td>0.03</td>\n",
       "      <td>ZIMBABWE</td>\n",
       "      <td>2021</td>\n",
       "    </tr>\n",
       "    <tr>\n",
       "      <th>184752</th>\n",
       "      <td>96</td>\n",
       "      <td>MISCELLANEOUS MANUFACTURED ARTICLES.</td>\n",
       "      <td>0.31</td>\n",
       "      <td>ZIMBABWE</td>\n",
       "      <td>2021</td>\n",
       "    </tr>\n",
       "    <tr>\n",
       "      <th>184753</th>\n",
       "      <td>98</td>\n",
       "      <td>PROJECT GOODS; SOME SPECIAL USES.</td>\n",
       "      <td>0.01</td>\n",
       "      <td>ZIMBABWE</td>\n",
       "      <td>2021</td>\n",
       "    </tr>\n",
       "    <tr>\n",
       "      <th>184754</th>\n",
       "      <td>99</td>\n",
       "      <td>MISCELLANEOUS GOODS.</td>\n",
       "      <td>0.00</td>\n",
       "      <td>ZIMBABWE</td>\n",
       "      <td>2021</td>\n",
       "    </tr>\n",
       "  </tbody>\n",
       "</table>\n",
       "<p>184755 rows × 5 columns</p>\n",
       "</div>"
      ],
      "text/plain": [
       "        HSCode                                          Commodity  value  \\\n",
       "0            2                        MEAT AND EDIBLE MEAT OFFAL.   1.40   \n",
       "1            3  FISH AND CRUSTACEANS, MOLLUSCS AND OTHER AQUAT...   0.00   \n",
       "2            4  DAIRY PRODUCE; BIRDS' EGGS; NATURAL HONEY; EDI...   3.89   \n",
       "3            5  PRODUCTS OF ANIMAL ORIGIN, NOT ELSEWHERE SPECI...   0.00   \n",
       "4            6  LIVE TREES AND OTHER PLANTS; BULBS; ROOTS AND ...    NaN   \n",
       "...        ...                                                ...    ...   \n",
       "184750      94  FURNITURE; BEDDING, MATTRESSES, MATTRESS SUPPO...   0.19   \n",
       "184751      95  TOYS, GAMES AND SPORTS REQUISITES; PARTS AND A...   0.03   \n",
       "184752      96               MISCELLANEOUS MANUFACTURED ARTICLES.   0.31   \n",
       "184753      98                  PROJECT GOODS; SOME SPECIAL USES.   0.01   \n",
       "184754      99                               MISCELLANEOUS GOODS.   0.00   \n",
       "\n",
       "            country  year  \n",
       "0       AFGHANISTAN  2010  \n",
       "1       AFGHANISTAN  2010  \n",
       "2       AFGHANISTAN  2010  \n",
       "3       AFGHANISTAN  2010  \n",
       "4       AFGHANISTAN  2010  \n",
       "...             ...   ...  \n",
       "184750     ZIMBABWE  2021  \n",
       "184751     ZIMBABWE  2021  \n",
       "184752     ZIMBABWE  2021  \n",
       "184753     ZIMBABWE  2021  \n",
       "184754     ZIMBABWE  2021  \n",
       "\n",
       "[184755 rows x 5 columns]"
      ]
     },
     "execution_count": 9,
     "metadata": {},
     "output_type": "execute_result"
    }
   ],
   "source": [
    "export_df_1"
   ]
  },
  {
   "cell_type": "code",
   "execution_count": null,
   "id": "8181c41e",
   "metadata": {},
   "outputs": [],
   "source": []
  }
 ],
 "metadata": {
  "kernelspec": {
   "display_name": "Python 3 (ipykernel)",
   "language": "python",
   "name": "python3"
  },
  "language_info": {
   "codemirror_mode": {
    "name": "ipython",
    "version": 3
   },
   "file_extension": ".py",
   "mimetype": "text/x-python",
   "name": "python",
   "nbconvert_exporter": "python",
   "pygments_lexer": "ipython3",
   "version": "3.10.9"
  }
 },
 "nbformat": 4,
 "nbformat_minor": 5
}
