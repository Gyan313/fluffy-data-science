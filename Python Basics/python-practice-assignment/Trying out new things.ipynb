{
 "cells": [
  {
   "cell_type": "markdown",
   "id": "7e171978",
   "metadata": {},
   "source": [
    "To represent a infinite value in python use ---> \n",
    "\n",
    "`float('inf')` \n",
    "\n",
    "or \n",
    "\n",
    "```python\n",
    "import math\n",
    "print(math.inf)\n",
    "```"
   ]
  },
  {
   "cell_type": "code",
   "execution_count": 3,
   "id": "d2a6cea3",
   "metadata": {},
   "outputs": [
    {
     "data": {
      "text/plain": [
       "inf"
      ]
     },
     "execution_count": 3,
     "metadata": {},
     "output_type": "execute_result"
    }
   ],
   "source": [
    "float(\"inf\")"
   ]
  },
  {
   "cell_type": "code",
   "execution_count": 2,
   "id": "e51df626",
   "metadata": {},
   "outputs": [
    {
     "name": "stdout",
     "output_type": "stream",
     "text": [
      "inf\n"
     ]
    }
   ],
   "source": [
    "import math\n",
    "print(math.inf)"
   ]
  },
  {
   "cell_type": "code",
   "execution_count": 7,
   "id": "407ef138",
   "metadata": {},
   "outputs": [],
   "source": [
    "li=[1,2,3,4,5,5]\n",
    "# li.pop(1:3)"
   ]
  },
  {
   "cell_type": "code",
   "execution_count": 10,
   "id": "8f89e7fc",
   "metadata": {},
   "outputs": [],
   "source": [
    "li.pop(-1) # = li.pop()"
   ]
  },
  {
   "cell_type": "code",
   "execution_count": 11,
   "id": "a73f9029",
   "metadata": {},
   "outputs": [
    {
     "data": {
      "text/plain": [
       "[1, 2, 3, 4, 5]"
      ]
     },
     "execution_count": 11,
     "metadata": {},
     "output_type": "execute_result"
    }
   ],
   "source": [
    "li\n"
   ]
  },
  {
   "cell_type": "code",
   "execution_count": 12,
   "id": "b30e8143",
   "metadata": {},
   "outputs": [],
   "source": [
    "lis=[6,7,8]"
   ]
  },
  {
   "cell_type": "code",
   "execution_count": 13,
   "id": "fd13ba73",
   "metadata": {},
   "outputs": [],
   "source": [
    "li.append(lis)"
   ]
  },
  {
   "cell_type": "code",
   "execution_count": 14,
   "id": "06c43775",
   "metadata": {},
   "outputs": [
    {
     "data": {
      "text/plain": [
       "[1, 2, 3, 4, 5, [6, 7, 8]]"
      ]
     },
     "execution_count": 14,
     "metadata": {},
     "output_type": "execute_result"
    }
   ],
   "source": [
    "li"
   ]
  },
  {
   "cell_type": "code",
   "execution_count": 15,
   "id": "87ea7b2c",
   "metadata": {},
   "outputs": [
    {
     "data": {
      "text/plain": [
       "[6, 7, 8]"
      ]
     },
     "execution_count": 15,
     "metadata": {},
     "output_type": "execute_result"
    }
   ],
   "source": [
    "li.pop()"
   ]
  },
  {
   "cell_type": "code",
   "execution_count": 16,
   "id": "ac6f089d",
   "metadata": {},
   "outputs": [
    {
     "data": {
      "text/plain": [
       "[1, 2, 3, 4, 5]"
      ]
     },
     "execution_count": 16,
     "metadata": {},
     "output_type": "execute_result"
    }
   ],
   "source": [
    "li"
   ]
  },
  {
   "cell_type": "code",
   "execution_count": 17,
   "id": "4690f155",
   "metadata": {},
   "outputs": [],
   "source": [
    "li.append([lis])"
   ]
  },
  {
   "cell_type": "code",
   "execution_count": 18,
   "id": "156092dc",
   "metadata": {},
   "outputs": [
    {
     "data": {
      "text/plain": [
       "[1, 2, 3, 4, 5, [[6, 7, 8]]]"
      ]
     },
     "execution_count": 18,
     "metadata": {},
     "output_type": "execute_result"
    }
   ],
   "source": [
    "li\n"
   ]
  },
  {
   "cell_type": "code",
   "execution_count": null,
   "id": "f4dd475e",
   "metadata": {},
   "outputs": [],
   "source": []
  }
 ],
 "metadata": {
  "kernelspec": {
   "display_name": "Python 3 (ipykernel)",
   "language": "python",
   "name": "python3"
  },
  "language_info": {
   "codemirror_mode": {
    "name": "ipython",
    "version": 3
   },
   "file_extension": ".py",
   "mimetype": "text/x-python",
   "name": "python",
   "nbconvert_exporter": "python",
   "pygments_lexer": "ipython3",
   "version": "3.11.3"
  }
 },
 "nbformat": 4,
 "nbformat_minor": 5
}
