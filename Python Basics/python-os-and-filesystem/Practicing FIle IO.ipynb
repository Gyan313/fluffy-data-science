{
 "cells": [
  {
   "cell_type": "code",
   "execution_count": 2,
   "id": "640ba395",
   "metadata": {},
   "outputs": [],
   "source": [
    "import os"
   ]
  },
  {
   "cell_type": "code",
   "execution_count": 2,
   "id": "259baa67",
   "metadata": {},
   "outputs": [
    {
     "data": {
      "text/plain": [
       "'C:\\\\Users\\\\GYAN\\\\Desktop\\\\Panda Numpy Freecodecamp\\\\Python Basics\\\\python-os-and-filesystem'"
      ]
     },
     "execution_count": 2,
     "metadata": {},
     "output_type": "execute_result"
    }
   ],
   "source": [
    "os.getcwd()  # --> giving me the path of where i am in folders from the very root."
   ]
  },
  {
   "cell_type": "code",
   "execution_count": 8,
   "id": "caf79e20",
   "metadata": {},
   "outputs": [
    {
     "data": {
      "text/plain": [
       "['All Users', 'Default', 'Default User', 'desktop.ini', 'GYAN', 'Public']"
      ]
     },
     "execution_count": 8,
     "metadata": {},
     "output_type": "execute_result"
    }
   ],
   "source": [
    "os.listdir(\"C:\\\\Users\")"
   ]
  },
  {
   "cell_type": "code",
   "execution_count": 9,
   "id": "150939fa",
   "metadata": {},
   "outputs": [
    {
     "ename": "TypeError",
     "evalue": "nt.getcwd() takes no arguments (1 given)",
     "output_type": "error",
     "traceback": [
      "\u001b[1;31m---------------------------------------------------------------------------\u001b[0m",
      "\u001b[1;31mTypeError\u001b[0m                                 Traceback (most recent call last)",
      "Cell \u001b[1;32mIn[9], line 1\u001b[0m\n\u001b[1;32m----> 1\u001b[0m \u001b[43mos\u001b[49m\u001b[38;5;241;43m.\u001b[39;49m\u001b[43mgetcwd\u001b[49m\u001b[43m(\u001b[49m\u001b[38;5;124;43m\"\u001b[39;49m\u001b[38;5;124;43mGYAN\u001b[39;49m\u001b[38;5;124;43m\"\u001b[39;49m\u001b[43m)\u001b[49m\n",
      "\u001b[1;31mTypeError\u001b[0m: nt.getcwd() takes no arguments (1 given)"
     ]
    }
   ],
   "source": [
    "os.getcwd(\"GYAN\")"
   ]
  },
  {
   "cell_type": "code",
   "execution_count": 17,
   "id": "49c64d4e",
   "metadata": {},
   "outputs": [
    {
     "data": {
      "text/plain": [
       "['$Recycle.Bin',\n",
       " '$WinREAgent',\n",
       " 'appverifUI.dll',\n",
       " 'Config.Msi',\n",
       " 'Documents and Settings',\n",
       " 'DumpStack.log',\n",
       " 'DumpStack.log.tmp',\n",
       " 'hiberfil.sys',\n",
       " 'install.log',\n",
       " 'Intel',\n",
       " 'pagefile.sys',\n",
       " 'PerfLogs',\n",
       " 'Program Files',\n",
       " 'Program Files (x86)',\n",
       " 'ProgramData',\n",
       " 'Recovery',\n",
       " 'swapfile.sys',\n",
       " 'System Volume Information',\n",
       " 'Temp',\n",
       " 'Users',\n",
       " 'vfcompat.dll',\n",
       " 'Windows']"
      ]
     },
     "execution_count": 17,
     "metadata": {},
     "output_type": "execute_result"
    }
   ],
   "source": [
    "os.listdir('/')  # --> giving all the file in the root directory."
   ]
  },
  {
   "cell_type": "code",
   "execution_count": 6,
   "id": "7e9d4a84",
   "metadata": {},
   "outputs": [],
   "source": [
    "os.makedirs(\"./data\",exist_ok=True)"
   ]
  },
  {
   "cell_type": "code",
   "execution_count": 7,
   "id": "a9f6725f",
   "metadata": {},
   "outputs": [
    {
     "data": {
      "text/plain": [
       "['.ipynb_checkpoints',\n",
       " '.jovianrc',\n",
       " 'data',\n",
       " 'Practicing FIle IO.ipynb',\n",
       " 'python-os-and-filesystem.ipynb']"
      ]
     },
     "execution_count": 7,
     "metadata": {},
     "output_type": "execute_result"
    }
   ],
   "source": [
    "os.listdir()"
   ]
  },
  {
   "cell_type": "code",
   "execution_count": 9,
   "id": "8fb23fa2",
   "metadata": {},
   "outputs": [
    {
     "data": {
      "text/plain": [
       "True"
      ]
     },
     "execution_count": 9,
     "metadata": {},
     "output_type": "execute_result"
    }
   ],
   "source": [
    "\"data\" in  os.listdir(\"./\")"
   ]
  },
  {
   "cell_type": "code",
   "execution_count": 12,
   "id": "44b5b1eb",
   "metadata": {},
   "outputs": [
    {
     "data": {
      "text/plain": [
       "['first-steps-with-python',\n",
       " 'python-os-and-filesystem',\n",
       " 'python-practice-assignment',\n",
       " 'python-variables-and-data-types']"
      ]
     },
     "execution_count": 12,
     "metadata": {},
     "output_type": "execute_result"
    }
   ],
   "source": [
    "os.listdir(\"../\")"
   ]
  },
  {
   "cell_type": "code",
   "execution_count": 13,
   "id": "1f32c2eb",
   "metadata": {},
   "outputs": [],
   "source": [
    "from urllib.request import urlretrieve"
   ]
  },
  {
   "cell_type": "code",
   "execution_count": 14,
   "id": "d0a7cccb",
   "metadata": {},
   "outputs": [],
   "source": [
    "url2 = 'https://gist.githubusercontent.com/aakashns/257f6e6c8719c17d0e498ea287d1a386/raw/7def9ef4234ddf0bc82f855ad67dac8b971852ef/loans2.txt'\n"
   ]
  },
  {
   "cell_type": "code",
   "execution_count": 15,
   "id": "dee1bbb9",
   "metadata": {},
   "outputs": [
    {
     "data": {
      "text/plain": [
       "('./data/loans2.csv', <http.client.HTTPMessage at 0x2a1415e9000>)"
      ]
     },
     "execution_count": 15,
     "metadata": {},
     "output_type": "execute_result"
    }
   ],
   "source": [
    "urlretrieve(url2,\"./data/loans2.csv\")"
   ]
  },
  {
   "cell_type": "code",
   "execution_count": 16,
   "id": "49e1e222",
   "metadata": {},
   "outputs": [],
   "source": [
    "url3 = 'https://gist.githubusercontent.com/aakashns/257f6e6c8719c17d0e498ea287d1a386/raw/7def9ef4234ddf0bc82f855ad67dac8b971852ef/loans3.txt'"
   ]
  },
  {
   "cell_type": "code",
   "execution_count": 17,
   "id": "2facee9a",
   "metadata": {},
   "outputs": [
    {
     "data": {
      "text/plain": [
       "('./data/loans3.csv', <http.client.HTTPMessage at 0x2a14060da50>)"
      ]
     },
     "execution_count": 17,
     "metadata": {},
     "output_type": "execute_result"
    }
   ],
   "source": [
    "urlretrieve(url3,\"./data/loans3.csv\")"
   ]
  },
  {
   "cell_type": "code",
   "execution_count": 19,
   "id": "dd400500",
   "metadata": {},
   "outputs": [
    {
     "data": {
      "text/plain": [
       "['loans1.txt', 'loans2.csv', 'loans3.csv']"
      ]
     },
     "execution_count": 19,
     "metadata": {},
     "output_type": "execute_result"
    }
   ],
   "source": [
    "os.listdir(\"./data\")"
   ]
  },
  {
   "cell_type": "code",
   "execution_count": 20,
   "id": "71ec249f",
   "metadata": {},
   "outputs": [],
   "source": [
    "with open(\"./data/loans2.csv\",\"r\") as file:\n",
    "    file_obj=file.readlines()\n",
    "\n",
    "# here readlines() function gonna read every line of the file as a string and than store them in a list."
   ]
  },
  {
   "cell_type": "code",
   "execution_count": 21,
   "id": "4f4c849a",
   "metadata": {},
   "outputs": [
    {
     "data": {
      "text/plain": [
       "['amount,duration,rate,down_payment\\n',\n",
       " '828400,120,0.11,100000\\n',\n",
       " '4633400,240,0.06,\\n',\n",
       " '42900,90,0.08,8900\\n',\n",
       " '983000,16,0.14,\\n',\n",
       " '15230,48,0.07,4300']"
      ]
     },
     "execution_count": 21,
     "metadata": {},
     "output_type": "execute_result"
    }
   ],
   "source": [
    "file_obj\n"
   ]
  },
  {
   "cell_type": "code",
   "execution_count": 22,
   "id": "3bfe1444",
   "metadata": {},
   "outputs": [
    {
     "data": {
      "text/plain": [
       "['amount,duration,rate,down_payment\\n',\n",
       " '828400,120,0.11,100000\\n',\n",
       " '4633400,240,0.06,\\n',\n",
       " '42900,90,0.08,8900\\n',\n",
       " '983000,16,0.14,\\n',\n",
       " '15230,48,0.07,4300']"
      ]
     },
     "execution_count": 22,
     "metadata": {},
     "output_type": "execute_result"
    }
   ],
   "source": [
    "file_obj"
   ]
  },
  {
   "cell_type": "code",
   "execution_count": 23,
   "id": "1b659ac0",
   "metadata": {},
   "outputs": [
    {
     "data": {
      "text/plain": [
       "'amount,duration,rate,down_payment\\n'"
      ]
     },
     "execution_count": 23,
     "metadata": {},
     "output_type": "execute_result"
    }
   ],
   "source": [
    "file_obj[0] "
   ]
  },
  {
   "cell_type": "code",
   "execution_count": 26,
   "id": "9e2362e2",
   "metadata": {},
   "outputs": [
    {
     "data": {
      "text/plain": [
       "['amount', 'duration', 'rate', 'down_payment']"
      ]
     },
     "execution_count": 26,
     "metadata": {},
     "output_type": "execute_result"
    }
   ],
   "source": [
    "file_obj[0].strip().split(\",\") # --> split() returns list."
   ]
  },
  {
   "cell_type": "code",
   "execution_count": 41,
   "id": "0ad15e3f",
   "metadata": {},
   "outputs": [],
   "source": [
    "def parse_values(file):\n",
    "    value=[]\n",
    "    for element in file.strip().split(\",\"):\n",
    "        if element == '':\n",
    "            value.append(0.0)\n",
    "        else:\n",
    "            try:\n",
    "                value.append((float(element)))\n",
    "            except ValueError:\n",
    "                value.append((element))\n",
    "    return value"
   ]
  },
  {
   "cell_type": "code",
   "execution_count": 33,
   "id": "22e96ff1",
   "metadata": {},
   "outputs": [
    {
     "data": {
      "text/plain": [
       "['828400', '120', '0.11', '100000']"
      ]
     },
     "execution_count": 33,
     "metadata": {},
     "output_type": "execute_result"
    }
   ],
   "source": [
    "file_obj[1].strip().split(\",\")\n",
    "\n",
    "# --> as we know that every element of the list file_obj[1] is a str."
   ]
  },
  {
   "cell_type": "code",
   "execution_count": 36,
   "id": "937dec50",
   "metadata": {},
   "outputs": [
    {
     "ename": "ValueError",
     "evalue": "could not convert string to float: 'gyan'",
     "output_type": "error",
     "traceback": [
      "\u001b[1;31m---------------------------------------------------------------------------\u001b[0m",
      "\u001b[1;31mValueError\u001b[0m                                Traceback (most recent call last)",
      "Cell \u001b[1;32mIn[36], line 1\u001b[0m\n\u001b[1;32m----> 1\u001b[0m \u001b[38;5;28mprint\u001b[39m(\u001b[38;5;28mint\u001b[39m(\u001b[38;5;28;43mfloat\u001b[39;49m\u001b[43m(\u001b[49m\u001b[38;5;124;43m\"\u001b[39;49m\u001b[38;5;124;43mgyan\u001b[39;49m\u001b[38;5;124;43m\"\u001b[39;49m\u001b[43m)\u001b[49m))\n",
      "\u001b[1;31mValueError\u001b[0m: could not convert string to float: 'gyan'"
     ]
    }
   ],
   "source": [
    "print(int(float(\"gyan\")))"
   ]
  },
  {
   "cell_type": "code",
   "execution_count": 38,
   "id": "c71b40c5",
   "metadata": {},
   "outputs": [
    {
     "data": {
      "text/plain": [
       "['loans1.txt', 'loans2.csv', 'loans3.csv']"
      ]
     },
     "execution_count": 38,
     "metadata": {},
     "output_type": "execute_result"
    }
   ],
   "source": [
    "# with open(\"./data/l\")\n",
    "os.listdir(\"./data\")"
   ]
  },
  {
   "cell_type": "code",
   "execution_count": 51,
   "id": "cd108139",
   "metadata": {},
   "outputs": [],
   "source": [
    "with open(\"./data/loans3.csv\",\"r\") as file:\n",
    "    file_3=file.readlines()"
   ]
  },
  {
   "cell_type": "code",
   "execution_count": 8,
   "id": "4ea04353",
   "metadata": {},
   "outputs": [
    {
     "data": {
      "text/plain": [
       "['amount,duration,rate,down_payment\\n',\n",
       " '45230,48,0.07,4300\\n',\n",
       " '883000,16,0.14,\\n',\n",
       " '100000,12,0.1,\\n',\n",
       " '728400,120,0.12,100000\\n',\n",
       " '3637400,240,0.06,\\n',\n",
       " '82900,90,0.07,8900\\n',\n",
       " '316000,16,0.13,\\n',\n",
       " '15230,48,0.08,4300\\n',\n",
       " '991360,99,0.08,\\n',\n",
       " '323000,27,0.09,4720010000,36,0.08,20000\\n',\n",
       " '528400,120,0.11,100000\\n',\n",
       " '8633400,240,0.06,\\n',\n",
       " '12900,90,0.08,8900']"
      ]
     },
     "execution_count": 8,
     "metadata": {},
     "output_type": "execute_result"
    }
   ],
   "source": [
    "file_3"
   ]
  },
  {
   "cell_type": "code",
   "execution_count": 12,
   "id": "badda743",
   "metadata": {},
   "outputs": [
    {
     "name": "stdout",
     "output_type": "stream",
     "text": [
      "[883000, 16, 0, 0]\n"
     ]
    }
   ],
   "source": [
    "file_3_element=parse_values(file_3[2])"
   ]
  },
  {
   "cell_type": "code",
   "execution_count": 47,
   "id": "e122b274",
   "metadata": {},
   "outputs": [
    {
     "name": "stdout",
     "output_type": "stream",
     "text": [
      "(1, 2, 3)\n",
      "(2, 3, 4)\n",
      "(3, 4, 5)\n"
     ]
    }
   ],
   "source": [
    "for e in zip([1,2,3],[2,3,4],[3,4,5,]):\n",
    "    print(e)"
   ]
  },
  {
   "cell_type": "code",
   "execution_count": 4,
   "id": "e2c40de6",
   "metadata": {},
   "outputs": [
    {
     "name": "stdout",
     "output_type": "stream",
     "text": [
      "Name\n",
      "House\n",
      "Roll\n"
     ]
    }
   ],
   "source": [
    "for e in (dict(zip([\"Name\",\"House\",\"Roll\"],[1,2,3]))):\n",
    "    print(e,)"
   ]
  },
  {
   "cell_type": "code",
   "execution_count": 23,
   "id": "bac3b33b",
   "metadata": {},
   "outputs": [],
   "source": [
    "\n",
    "def create_item_dict(values, headers):\n",
    "    result = {}\n",
    "    for value in zip(values, headers):\n",
    "        result[header] = value\n",
    "    return result"
   ]
  },
  {
   "cell_type": "code",
   "execution_count": 24,
   "id": "99ed8340",
   "metadata": {},
   "outputs": [
    {
     "name": "stdout",
     "output_type": "stream",
     "text": [
      "['amount', 'duration', 'rate', 'down_payment']\n"
     ]
    },
    {
     "ename": "TypeError",
     "evalue": "'NoneType' object is not iterable",
     "output_type": "error",
     "traceback": [
      "\u001b[1;31m---------------------------------------------------------------------------\u001b[0m",
      "\u001b[1;31mTypeError\u001b[0m                                 Traceback (most recent call last)",
      "Cell \u001b[1;32mIn[24], line 2\u001b[0m\n\u001b[0;32m      1\u001b[0m headers\u001b[38;5;241m=\u001b[39mparse_values(file_3[\u001b[38;5;241m0\u001b[39m])\n\u001b[1;32m----> 2\u001b[0m \u001b[43mcreate_dict\u001b[49m\u001b[43m(\u001b[49m\u001b[43mfile_3_element\u001b[49m\u001b[43m,\u001b[49m\u001b[43mheaders\u001b[49m\u001b[43m)\u001b[49m\n",
      "Cell \u001b[1;32mIn[20], line 3\u001b[0m, in \u001b[0;36mcreate_dict\u001b[1;34m(file_ele, header)\u001b[0m\n\u001b[0;32m      1\u001b[0m \u001b[38;5;28;01mdef\u001b[39;00m \u001b[38;5;21mcreate_dict\u001b[39m(file_ele,header):\n\u001b[0;32m      2\u001b[0m     values\u001b[38;5;241m=\u001b[39m{}\n\u001b[1;32m----> 3\u001b[0m     \u001b[38;5;28;01mfor\u001b[39;00m field,element \u001b[38;5;129;01min\u001b[39;00m \u001b[38;5;28;43mzip\u001b[39;49m\u001b[43m(\u001b[49m\u001b[43mheader\u001b[49m\u001b[43m,\u001b[49m\u001b[43mfile_ele\u001b[49m\u001b[43m)\u001b[49m:\n\u001b[0;32m      4\u001b[0m         values[field]\u001b[38;5;241m=\u001b[39melement\n\u001b[0;32m      5\u001b[0m     \u001b[38;5;28;01mreturn\u001b[39;00m values\n",
      "\u001b[1;31mTypeError\u001b[0m: 'NoneType' object is not iterable"
     ]
    }
   ],
   "source": [
    "headers=parse_values(file_3[0])\n",
    "create_dict(file_3_element,headers)"
   ]
  },
  {
   "cell_type": "code",
   "execution_count": 41,
   "id": "d2e3e627",
   "metadata": {},
   "outputs": [
    {
     "name": "stdout",
     "output_type": "stream",
     "text": [
      "[883000, 16, 0, 0]\n"
     ]
    }
   ],
   "source": [
    "values1 = parse_values(file_3[2])"
   ]
  },
  {
   "cell_type": "code",
   "execution_count": 35,
   "id": "55f204ad",
   "metadata": {},
   "outputs": [
    {
     "ename": "TypeError",
     "evalue": "'NoneType' object is not iterable",
     "output_type": "error",
     "traceback": [
      "\u001b[1;31m---------------------------------------------------------------------------\u001b[0m",
      "\u001b[1;31mTypeError\u001b[0m                                 Traceback (most recent call last)",
      "Cell \u001b[1;32mIn[35], line 2\u001b[0m\n\u001b[0;32m      1\u001b[0m result \u001b[38;5;241m=\u001b[39m {}\n\u001b[1;32m----> 2\u001b[0m \u001b[38;5;28;01mfor\u001b[39;00m value, header \u001b[38;5;129;01min\u001b[39;00m \u001b[38;5;28;43mzip\u001b[39;49m\u001b[43m(\u001b[49m\u001b[43mfile_3_element\u001b[49m\u001b[43m,\u001b[49m\u001b[43m \u001b[49m\u001b[43mfile_3\u001b[49m\u001b[43m[\u001b[49m\u001b[38;5;241;43m1\u001b[39;49m\u001b[43m]\u001b[49m\u001b[38;5;241;43m.\u001b[39;49m\u001b[43mstrip\u001b[49m\u001b[43m(\u001b[49m\u001b[43m)\u001b[49m\u001b[38;5;241;43m.\u001b[39;49m\u001b[43msplit\u001b[49m\u001b[43m(\u001b[49m\u001b[38;5;124;43m\"\u001b[39;49m\u001b[38;5;124;43m,\u001b[39;49m\u001b[38;5;124;43m\"\u001b[39;49m\u001b[43m)\u001b[49m\u001b[43m)\u001b[49m:\n\u001b[0;32m      3\u001b[0m     result[header] \u001b[38;5;241m=\u001b[39m value\n\u001b[0;32m      4\u001b[0m \u001b[38;5;28mprint\u001b[39m(result)\n",
      "\u001b[1;31mTypeError\u001b[0m: 'NoneType' object is not iterable"
     ]
    }
   ],
   "source": [
    "result = {}\n",
    "for value, header in zip(file_3_element, file_3[1].strip().split(\",\")):\n",
    "    result[header] = value\n",
    "print(result)"
   ]
  },
  {
   "cell_type": "code",
   "execution_count": 38,
   "id": "9ed68aec",
   "metadata": {},
   "outputs": [],
   "source": [
    "file_3_element"
   ]
  },
  {
   "cell_type": "code",
   "execution_count": 37,
   "id": "c9df10bd",
   "metadata": {},
   "outputs": [
    {
     "data": {
      "text/plain": [
       "['amount,duration,rate,down_payment\\n',\n",
       " '45230,48,0.07,4300\\n',\n",
       " '883000,16,0.14,\\n',\n",
       " '100000,12,0.1,\\n',\n",
       " '728400,120,0.12,100000\\n',\n",
       " '3637400,240,0.06,\\n',\n",
       " '82900,90,0.07,8900\\n',\n",
       " '316000,16,0.13,\\n',\n",
       " '15230,48,0.08,4300\\n',\n",
       " '991360,99,0.08,\\n',\n",
       " '323000,27,0.09,4720010000,36,0.08,20000\\n',\n",
       " '528400,120,0.11,100000\\n',\n",
       " '8633400,240,0.06,\\n',\n",
       " '12900,90,0.08,8900']"
      ]
     },
     "execution_count": 37,
     "metadata": {},
     "output_type": "execute_result"
    }
   ],
   "source": [
    "file_3"
   ]
  },
  {
   "cell_type": "code",
   "execution_count": 39,
   "id": "8d3167e0",
   "metadata": {},
   "outputs": [
    {
     "ename": "NameError",
     "evalue": "name 'value1' is not defined",
     "output_type": "error",
     "traceback": [
      "\u001b[1;31m---------------------------------------------------------------------------\u001b[0m",
      "\u001b[1;31mNameError\u001b[0m                                 Traceback (most recent call last)",
      "Cell \u001b[1;32mIn[39], line 1\u001b[0m\n\u001b[1;32m----> 1\u001b[0m \u001b[43mvalue1\u001b[49m\n",
      "\u001b[1;31mNameError\u001b[0m: name 'value1' is not defined"
     ]
    }
   ],
   "source": [
    "value1"
   ]
  },
  {
   "cell_type": "code",
   "execution_count": 46,
   "id": "c7704d8a",
   "metadata": {},
   "outputs": [
    {
     "name": "stdout",
     "output_type": "stream",
     "text": [
      "[100000, 12, 0, 0]\n"
     ]
    },
    {
     "ename": "TypeError",
     "evalue": "'NoneType' object is not iterable",
     "output_type": "error",
     "traceback": [
      "\u001b[1;31m---------------------------------------------------------------------------\u001b[0m",
      "\u001b[1;31mTypeError\u001b[0m                                 Traceback (most recent call last)",
      "Cell \u001b[1;32mIn[46], line 1\u001b[0m\n\u001b[1;32m----> 1\u001b[0m \u001b[43mcreate_item_dict\u001b[49m\u001b[43m(\u001b[49m\u001b[43mfile_3\u001b[49m\u001b[43m[\u001b[49m\u001b[38;5;241;43m3\u001b[39;49m\u001b[43m]\u001b[49m\u001b[38;5;241;43m.\u001b[39;49m\u001b[43mstrip\u001b[49m\u001b[43m(\u001b[49m\u001b[43m)\u001b[49m\u001b[38;5;241;43m.\u001b[39;49m\u001b[43msplit\u001b[49m\u001b[43m(\u001b[49m\u001b[38;5;124;43m\"\u001b[39;49m\u001b[38;5;124;43m,\u001b[39;49m\u001b[38;5;124;43m\"\u001b[39;49m\u001b[43m)\u001b[49m\u001b[43m,\u001b[49m\u001b[43m \u001b[49m\u001b[43mparse_values\u001b[49m\u001b[43m(\u001b[49m\u001b[43mfile_3\u001b[49m\u001b[43m[\u001b[49m\u001b[38;5;241;43m3\u001b[39;49m\u001b[43m]\u001b[49m\u001b[43m)\u001b[49m\u001b[43m)\u001b[49m\n",
      "Cell \u001b[1;32mIn[23], line 9\u001b[0m, in \u001b[0;36mcreate_item_dict\u001b[1;34m(values, headers)\u001b[0m\n\u001b[0;32m      7\u001b[0m \u001b[38;5;28;01mdef\u001b[39;00m \u001b[38;5;21mcreate_item_dict\u001b[39m(values, headers):\n\u001b[0;32m      8\u001b[0m     result \u001b[38;5;241m=\u001b[39m {}\n\u001b[1;32m----> 9\u001b[0m     \u001b[38;5;28;01mfor\u001b[39;00m value, header \u001b[38;5;129;01min\u001b[39;00m \u001b[38;5;28;43mzip\u001b[39;49m\u001b[43m(\u001b[49m\u001b[43mvalues\u001b[49m\u001b[43m,\u001b[49m\u001b[43m \u001b[49m\u001b[43mheaders\u001b[49m\u001b[43m)\u001b[49m:\n\u001b[0;32m     10\u001b[0m         result[header] \u001b[38;5;241m=\u001b[39m value\n\u001b[0;32m     11\u001b[0m     \u001b[38;5;28;01mreturn\u001b[39;00m result\n",
      "\u001b[1;31mTypeError\u001b[0m: 'NoneType' object is not iterable"
     ]
    }
   ],
   "source": [
    "create_item_dict(file_3[3].strip().split(\",\"), parse_values(file_3[3]))"
   ]
  },
  {
   "cell_type": "code",
   "execution_count": 47,
   "id": "912d1bfa",
   "metadata": {},
   "outputs": [
    {
     "data": {
      "text/plain": [
       "['100000', '12', '0.1', '']"
      ]
     },
     "execution_count": 47,
     "metadata": {},
     "output_type": "execute_result"
    }
   ],
   "source": [
    "file_3[3].strip().split(\",\")"
   ]
  },
  {
   "cell_type": "code",
   "execution_count": 55,
   "id": "01c71864",
   "metadata": {},
   "outputs": [
    {
     "name": "stdout",
     "output_type": "stream",
     "text": [
      "[883000.0, 16.0, 0.14, 0]\n"
     ]
    }
   ],
   "source": [
    "values1 = parse_values(file_3[2])"
   ]
  },
  {
   "cell_type": "code",
   "execution_count": 54,
   "id": "66323970",
   "metadata": {},
   "outputs": [
    {
     "name": "stdout",
     "output_type": "stream",
     "text": [
      "['amount', 'duration', 'rate', 'down_payment']\n"
     ]
    }
   ],
   "source": [
    "values2=parse_values(file_3[0])"
   ]
  },
  {
   "cell_type": "code",
   "execution_count": 56,
   "id": "3e6e9fd9",
   "metadata": {},
   "outputs": [
    {
     "ename": "TypeError",
     "evalue": "'NoneType' object is not iterable",
     "output_type": "error",
     "traceback": [
      "\u001b[1;31m---------------------------------------------------------------------------\u001b[0m",
      "\u001b[1;31mTypeError\u001b[0m                                 Traceback (most recent call last)",
      "Cell \u001b[1;32mIn[56], line 1\u001b[0m\n\u001b[1;32m----> 1\u001b[0m \u001b[43mcreate_item_dict\u001b[49m\u001b[43m(\u001b[49m\u001b[43mvalues1\u001b[49m\u001b[43m,\u001b[49m\u001b[43mvalues2\u001b[49m\u001b[43m)\u001b[49m\n",
      "Cell \u001b[1;32mIn[23], line 9\u001b[0m, in \u001b[0;36mcreate_item_dict\u001b[1;34m(values, headers)\u001b[0m\n\u001b[0;32m      7\u001b[0m \u001b[38;5;28;01mdef\u001b[39;00m \u001b[38;5;21mcreate_item_dict\u001b[39m(values, headers):\n\u001b[0;32m      8\u001b[0m     result \u001b[38;5;241m=\u001b[39m {}\n\u001b[1;32m----> 9\u001b[0m     \u001b[38;5;28;01mfor\u001b[39;00m value, header \u001b[38;5;129;01min\u001b[39;00m \u001b[38;5;28;43mzip\u001b[39;49m\u001b[43m(\u001b[49m\u001b[43mvalues\u001b[49m\u001b[43m,\u001b[49m\u001b[43m \u001b[49m\u001b[43mheaders\u001b[49m\u001b[43m)\u001b[49m:\n\u001b[0;32m     10\u001b[0m         result[header] \u001b[38;5;241m=\u001b[39m value\n\u001b[0;32m     11\u001b[0m     \u001b[38;5;28;01mreturn\u001b[39;00m result\n",
      "\u001b[1;31mTypeError\u001b[0m: 'NoneType' object is not iterable"
     ]
    }
   ],
   "source": [
    "create_item_dict(values1,values2)"
   ]
  },
  {
   "cell_type": "code",
   "execution_count": 45,
   "id": "58c484d4",
   "metadata": {},
   "outputs": [
    {
     "data": {
      "text/plain": [
       "[{'amount': 883000.0, 'duration': 16.0, 'rate': 0.14, 'down_payment': 0.0},\n",
       " {'amount': 100000.0, 'duration': 12.0, 'rate': 0.1, 'down_payment': 0.0},\n",
       " {'amount': 728400.0,\n",
       "  'duration': 120.0,\n",
       "  'rate': 0.12,\n",
       "  'down_payment': 100000.0},\n",
       " {'amount': 3637400.0, 'duration': 240.0, 'rate': 0.06, 'down_payment': 0.0},\n",
       " {'amount': 82900.0, 'duration': 90.0, 'rate': 0.07, 'down_payment': 8900.0},\n",
       " {'amount': 316000.0, 'duration': 16.0, 'rate': 0.13, 'down_payment': 0.0},\n",
       " {'amount': 15230.0, 'duration': 48.0, 'rate': 0.08, 'down_payment': 4300.0},\n",
       " {'amount': 991360.0, 'duration': 99.0, 'rate': 0.08, 'down_payment': 0.0},\n",
       " {'amount': 323000.0,\n",
       "  'duration': 27.0,\n",
       "  'rate': 0.09,\n",
       "  'down_payment': 4720010000.0},\n",
       " {'amount': 528400.0,\n",
       "  'duration': 120.0,\n",
       "  'rate': 0.11,\n",
       "  'down_payment': 100000.0},\n",
       " {'amount': 8633400.0, 'duration': 240.0, 'rate': 0.06, 'down_payment': 0.0},\n",
       " {'amount': 12900.0, 'duration': 90.0, 'rate': 0.08, 'down_payment': 8900.0}]"
      ]
     },
     "execution_count": 45,
     "metadata": {},
     "output_type": "execute_result"
    }
   ],
   "source": [
    "#  ---> make a read_csv() function \n",
    "# ---> open the file you wanted and read from it.\n",
    "# ---> now convert this list every element into dictionary with \"header as a key\" and \"value\" as all the other element of the list.\n",
    "\n",
    "def read_csv(file):\n",
    "    \n",
    "    with open(f\"./data/{file}\",\"r\") as new_file:\n",
    "        readed_file=new_file.readlines()\n",
    "    \n",
    "    headers=(readed_file[0].strip().split(\",\"))\n",
    "    value=[]\n",
    "    for element in readed_file[2:]:\n",
    "        dictionary=dict()\n",
    "        parse=parse_values(element)\n",
    "        for header,ele in zip(headers,parse):\n",
    "            dictionary[header]=ele\n",
    "        value.append(dictionary)\n",
    "    return value\n",
    "\n",
    "read_csv(\"loans3.csv\")\n",
    "\n",
    "# Embrase this code badi mushkil se aaya h"
   ]
  },
  {
   "cell_type": "code",
   "execution_count": 56,
   "id": "434a6767",
   "metadata": {},
   "outputs": [
    {
     "data": {
      "text/plain": [
       "['amount,duration,rate,down_payment\\n',\n",
       " '45230,48,0.07,4300\\n',\n",
       " '883000,16,0.14,\\n',\n",
       " '100000,12,0.1,\\n',\n",
       " '728400,120,0.12,100000\\n',\n",
       " '3637400,240,0.06,\\n',\n",
       " '82900,90,0.07,8900\\n',\n",
       " '316000,16,0.13,\\n',\n",
       " '15230,48,0.08,4300\\n',\n",
       " '991360,99,0.08,\\n',\n",
       " '323000,27,0.09,4720010000,36,0.08,20000\\n',\n",
       " '528400,120,0.11,100000\\n',\n",
       " '8633400,240,0.06,\\n',\n",
       " '12900,90,0.08,8900']"
      ]
     },
     "execution_count": 56,
     "metadata": {},
     "output_type": "execute_result"
    }
   ],
   "source": [
    "with open(\"./data/loans3.csv\",\"r\") as file3:\n",
    "    read_files=file3.readlines()\n",
    "read_files"
   ]
  },
  {
   "cell_type": "code",
   "execution_count": 51,
   "id": "c85230d7",
   "metadata": {},
   "outputs": [
    {
     "name": "stdout",
     "output_type": "stream",
     "text": [
      "124\n",
      "124\n",
      "124\n"
     ]
    }
   ],
   "source": [
    "import math\n",
    "\n",
    "# Rounding a number up to the nearest integer\n",
    "number = 123.45\n",
    "\n",
    "rounded_number = math.ceil(number)\n",
    "\n",
    "print(rounded_number) # 124\n",
    "\n",
    "# Calculating the minimum value of a set of numbers\n",
    "numbers = [123.01, 124.56, 125.67]\n",
    "\n",
    "minimum_number = math.ceil(min(numbers))\n",
    "\n",
    "print(minimum_number) # 125\n",
    "\n",
    "# Determining the smallest possible value of a variable\n",
    "height = 123.45\n",
    "\n",
    "minimum_height = math.ceil(height)\n",
    "\n",
    "print(minimum_height) # 124\n"
   ]
  },
  {
   "cell_type": "code",
   "execution_count": 52,
   "id": "815d701e",
   "metadata": {},
   "outputs": [],
   "source": [
    "def loan_emi(amount, duration, rate, down_payment=0):\n",
    "    Total_amount=amount-down_payment\n",
    "    try:\n",
    "        emi=Total_amount*rate*((1+rate)**duration)/(((rate+1)**duration)-1)\n",
    "    except ZeroDivisionError:\n",
    "        emi=Total_amount/duration\n",
    "    Emi=math.ceil(emi)\n",
    "    return Emi"
   ]
  },
  {
   "cell_type": "code",
   "execution_count": 65,
   "id": "0b4aac1e",
   "metadata": {},
   "outputs": [
    {
     "data": {
      "text/plain": [
       "[{'amount': 883000.0,\n",
       "  'duration': 16.0,\n",
       "  'rate': 0.14,\n",
       "  'down_payment': 0.0,\n",
       "  'Emi': 60819},\n",
       " {'amount': 100000.0,\n",
       "  'duration': 12.0,\n",
       "  'rate': 0.1,\n",
       "  'down_payment': 0.0,\n",
       "  'Emi': 8792},\n",
       " {'amount': 728400.0,\n",
       "  'duration': 120.0,\n",
       "  'rate': 0.12,\n",
       "  'down_payment': 100000.0,\n",
       "  'Emi': 9016},\n",
       " {'amount': 3637400.0,\n",
       "  'duration': 240.0,\n",
       "  'rate': 0.06,\n",
       "  'down_payment': 0.0,\n",
       "  'Emi': 26060},\n",
       " {'amount': 82900.0,\n",
       "  'duration': 90.0,\n",
       "  'rate': 0.07,\n",
       "  'down_payment': 8900.0,\n",
       "  'Emi': 1060},\n",
       " {'amount': 316000.0,\n",
       "  'duration': 16.0,\n",
       "  'rate': 0.13,\n",
       "  'down_payment': 0.0,\n",
       "  'Emi': 21618},\n",
       " {'amount': 15230.0,\n",
       "  'duration': 48.0,\n",
       "  'rate': 0.08,\n",
       "  'down_payment': 4300.0,\n",
       "  'Emi': 267},\n",
       " {'amount': 991360.0,\n",
       "  'duration': 99.0,\n",
       "  'rate': 0.08,\n",
       "  'down_payment': 0.0,\n",
       "  'Emi': 13712},\n",
       " {'amount': 323000.0,\n",
       "  'duration': 27.0,\n",
       "  'rate': 0.09,\n",
       "  'down_payment': 4720010000.0,\n",
       "  'Emi': -193751447},\n",
       " {'amount': 528400.0,\n",
       "  'duration': 120.0,\n",
       "  'rate': 0.11,\n",
       "  'down_payment': 100000.0,\n",
       "  'Emi': 5902},\n",
       " {'amount': 8633400.0,\n",
       "  'duration': 240.0,\n",
       "  'rate': 0.06,\n",
       "  'down_payment': 0.0,\n",
       "  'Emi': 61853},\n",
       " {'amount': 12900.0,\n",
       "  'duration': 90.0,\n",
       "  'rate': 0.08,\n",
       "  'down_payment': 8900.0,\n",
       "  'Emi': 60}]"
      ]
     },
     "execution_count": 65,
     "metadata": {},
     "output_type": "execute_result"
    }
   ],
   "source": [
    "dict3=read_csv(\"loans3.csv\")\n",
    "for loan in dict3:\n",
    "    loan['Emi']=loan_emi(loan['amount'],loan['duration'],loan['rate']/12,loan['down_payment'])\n",
    "dict3"
   ]
  },
  {
   "cell_type": "code",
   "execution_count": 59,
   "id": "60dd84de",
   "metadata": {},
   "outputs": [],
   "source": [
    "with open(\"./data/loans3.csv\") as file:\n",
    "    read_this=file.readlines()"
   ]
  },
  {
   "cell_type": "code",
   "execution_count": 64,
   "id": "201ca806",
   "metadata": {},
   "outputs": [
    {
     "data": {
      "text/plain": [
       "[{'amount': 883000.0, 'duration': 16.0, 'rate': 0.14, 'down_payment': 0.0},\n",
       " {'amount': 100000.0, 'duration': 12.0, 'rate': 0.1, 'down_payment': 0.0},\n",
       " {'amount': 728400.0,\n",
       "  'duration': 120.0,\n",
       "  'rate': 0.12,\n",
       "  'down_payment': 100000.0},\n",
       " {'amount': 3637400.0, 'duration': 240.0, 'rate': 0.06, 'down_payment': 0.0},\n",
       " {'amount': 82900.0, 'duration': 90.0, 'rate': 0.07, 'down_payment': 8900.0},\n",
       " {'amount': 316000.0, 'duration': 16.0, 'rate': 0.13, 'down_payment': 0.0},\n",
       " {'amount': 15230.0, 'duration': 48.0, 'rate': 0.08, 'down_payment': 4300.0},\n",
       " {'amount': 991360.0, 'duration': 99.0, 'rate': 0.08, 'down_payment': 0.0},\n",
       " {'amount': 323000.0,\n",
       "  'duration': 27.0,\n",
       "  'rate': 0.09,\n",
       "  'down_payment': 4720010000.0},\n",
       " {'amount': 528400.0,\n",
       "  'duration': 120.0,\n",
       "  'rate': 0.11,\n",
       "  'down_payment': 100000.0},\n",
       " {'amount': 8633400.0, 'duration': 240.0, 'rate': 0.06, 'down_payment': 0.0},\n",
       " {'amount': 12900.0, 'duration': 90.0, 'rate': 0.08, 'down_payment': 8900.0}]"
      ]
     },
     "execution_count": 64,
     "metadata": {},
     "output_type": "execute_result"
    }
   ],
   "source": [
    "read_csv(\"loans3.csv\")"
   ]
  },
  {
   "cell_type": "code",
   "execution_count": 74,
   "id": "248da193",
   "metadata": {},
   "outputs": [
    {
     "name": "stdout",
     "output_type": "stream",
     "text": [
      "None\n"
     ]
    }
   ],
   "source": [
    "with open(\"./data/loans3.csv\",\"w\") as file:\n",
    "    for loan in dict3:\n",
    "        new_file=file.writelines(loan)\n",
    "print(new_file)"
   ]
  },
  {
   "cell_type": "code",
   "execution_count": 68,
   "id": "b389fb3b",
   "metadata": {},
   "outputs": [],
   "source": [
    "with open(\"./data/loans3.csv\") as file:\n",
    "    read_file=file.readlines()\n",
    "    "
   ]
  },
  {
   "cell_type": "code",
   "execution_count": 72,
   "id": "b90dee92",
   "metadata": {},
   "outputs": [
    {
     "data": {
      "text/plain": [
       "[]"
      ]
     },
     "execution_count": 72,
     "metadata": {},
     "output_type": "execute_result"
    }
   ],
   "source": [
    "read_csv(\"loans3.csv\")"
   ]
  },
  {
   "cell_type": "code",
   "execution_count": 75,
   "id": "7085edd4",
   "metadata": {},
   "outputs": [
    {
     "data": {
      "text/plain": [
       "[{'amount': 883000.0,\n",
       "  'duration': 16.0,\n",
       "  'rate': 0.14,\n",
       "  'down_payment': 0.0,\n",
       "  'Emi': 60819},\n",
       " {'amount': 100000.0,\n",
       "  'duration': 12.0,\n",
       "  'rate': 0.1,\n",
       "  'down_payment': 0.0,\n",
       "  'Emi': 8792},\n",
       " {'amount': 728400.0,\n",
       "  'duration': 120.0,\n",
       "  'rate': 0.12,\n",
       "  'down_payment': 100000.0,\n",
       "  'Emi': 9016},\n",
       " {'amount': 3637400.0,\n",
       "  'duration': 240.0,\n",
       "  'rate': 0.06,\n",
       "  'down_payment': 0.0,\n",
       "  'Emi': 26060},\n",
       " {'amount': 82900.0,\n",
       "  'duration': 90.0,\n",
       "  'rate': 0.07,\n",
       "  'down_payment': 8900.0,\n",
       "  'Emi': 1060},\n",
       " {'amount': 316000.0,\n",
       "  'duration': 16.0,\n",
       "  'rate': 0.13,\n",
       "  'down_payment': 0.0,\n",
       "  'Emi': 21618},\n",
       " {'amount': 15230.0,\n",
       "  'duration': 48.0,\n",
       "  'rate': 0.08,\n",
       "  'down_payment': 4300.0,\n",
       "  'Emi': 267},\n",
       " {'amount': 991360.0,\n",
       "  'duration': 99.0,\n",
       "  'rate': 0.08,\n",
       "  'down_payment': 0.0,\n",
       "  'Emi': 13712},\n",
       " {'amount': 323000.0,\n",
       "  'duration': 27.0,\n",
       "  'rate': 0.09,\n",
       "  'down_payment': 4720010000.0,\n",
       "  'Emi': -193751447},\n",
       " {'amount': 528400.0,\n",
       "  'duration': 120.0,\n",
       "  'rate': 0.11,\n",
       "  'down_payment': 100000.0,\n",
       "  'Emi': 5902},\n",
       " {'amount': 8633400.0,\n",
       "  'duration': 240.0,\n",
       "  'rate': 0.06,\n",
       "  'down_payment': 0.0,\n",
       "  'Emi': 61853},\n",
       " {'amount': 12900.0,\n",
       "  'duration': 90.0,\n",
       "  'rate': 0.08,\n",
       "  'down_payment': 8900.0,\n",
       "  'Emi': 60}]"
      ]
     },
     "execution_count": 75,
     "metadata": {},
     "output_type": "execute_result"
    }
   ],
   "source": [
    "dict3"
   ]
  },
  {
   "cell_type": "code",
   "execution_count": 7,
   "id": "b8a99ea2",
   "metadata": {},
   "outputs": [],
   "source": [
    "# dict3 contains the read_csv() returned loans3.csv\n",
    "# this code write header to the csv file passed in the headers() function\n",
    "\n",
    "def headers(file):\n",
    "    with open(f\"./data/{file}\",\"w\") as file:\n",
    "        keys=\"\"\n",
    "        for key in dict3[0].keys():\n",
    "            keys+=key+\",\"\n",
    "        file.writelines(keys.strip(\",\")+\"\\n\")\n",
    "    return keys"
   ]
  },
  {
   "cell_type": "code",
   "execution_count": 8,
   "id": "b1e43837",
   "metadata": {},
   "outputs": [],
   "source": [
    "with open(\"./data/loans3.csv\") as file:\n",
    "    file_new=file.readlines()"
   ]
  },
  {
   "cell_type": "code",
   "execution_count": 96,
   "id": "833fc901",
   "metadata": {},
   "outputs": [
    {
     "data": {
      "text/plain": [
       "'amount,duration,rate,down_payment,Emi,'"
      ]
     },
     "execution_count": 96,
     "metadata": {},
     "output_type": "execute_result"
    }
   ],
   "source": [
    "keys"
   ]
  },
  {
   "cell_type": "code",
   "execution_count": 9,
   "id": "b8822c1d",
   "metadata": {},
   "outputs": [],
   "source": [
    "# trying to make a function in which i can write all the values of dict3 list's dictionaries in the 'loans3.csv' file.\n",
    "# Steps --->\n",
    "# \"keys\" is whole a string we need to convert it into a \"list of string keys.\"\n",
    "\n",
    "def parse_keys(keys):\n",
    "    All_keys=[]\n",
    "    for key in keys.strip().split(\",\"):\n",
    "        All_keys.append(str(key))\n",
    "    return All_keys\n",
    "\n",
    "def write_into_file(csv_dict,file_to_write):\n",
    "    \n",
    "    with open(f\"./data/{file_to_write}\",\"a\") as write_file:\n",
    "        for element in csv_dict:\n",
    "            values=\"\"\n",
    "            keys_to_place=headers(keys)\n",
    "            for key in parse_keys(keys_to_place):\n",
    "                if key == '':\n",
    "                    continue\n",
    "                if element[key]==0.0:\n",
    "                    values+=''+\",\"\n",
    "                    continue\n",
    "                print(element[key])\n",
    "                values+=str(element[key])+\",\"\n",
    "            write_file.writelines(values.rstrip(\",\")+\"\\n\")"
   ]
  },
  {
   "cell_type": "code",
   "execution_count": 4,
   "id": "dc65f119",
   "metadata": {},
   "outputs": [
    {
     "ename": "NameError",
     "evalue": "name 'dict3' is not defined",
     "output_type": "error",
     "traceback": [
      "\u001b[1;31m---------------------------------------------------------------------------\u001b[0m",
      "\u001b[1;31mNameError\u001b[0m                                 Traceback (most recent call last)",
      "Cell \u001b[1;32mIn[4], line 1\u001b[0m\n\u001b[1;32m----> 1\u001b[0m write_into_file(\u001b[43mdict3\u001b[49m,\u001b[38;5;124m\"\u001b[39m\u001b[38;5;124mloans3.csv\u001b[39m\u001b[38;5;124m\"\u001b[39m)\n",
      "\u001b[1;31mNameError\u001b[0m: name 'dict3' is not defined"
     ]
    }
   ],
   "source": [
    "write_into_file(dict3,\"loans3.csv\")"
   ]
  },
  {
   "cell_type": "code",
   "execution_count": 99,
   "id": "010af7ae",
   "metadata": {},
   "outputs": [
    {
     "data": {
      "text/plain": [
       "'amount,duration,rate,down_payment,Emi,'"
      ]
     },
     "execution_count": 99,
     "metadata": {},
     "output_type": "execute_result"
    }
   ],
   "source": [
    "keys"
   ]
  },
  {
   "cell_type": "code",
   "execution_count": 100,
   "id": "70cc690d",
   "metadata": {},
   "outputs": [
    {
     "data": {
      "text/plain": [
       "'a'"
      ]
     },
     "execution_count": 100,
     "metadata": {},
     "output_type": "execute_result"
    }
   ],
   "source": [
    "keys[0]"
   ]
  },
  {
   "cell_type": "code",
   "execution_count": 101,
   "id": "fdfdc931",
   "metadata": {},
   "outputs": [
    {
     "data": {
      "text/plain": [
       "'m'"
      ]
     },
     "execution_count": 101,
     "metadata": {},
     "output_type": "execute_result"
    }
   ],
   "source": [
    "keys[1]"
   ]
  },
  {
   "cell_type": "code",
   "execution_count": 106,
   "id": "93b3a2a2",
   "metadata": {},
   "outputs": [
    {
     "data": {
      "text/plain": [
       "[{'amount': 883000.0,\n",
       "  'duration': 16.0,\n",
       "  'rate': 0.14,\n",
       "  'down_payment': 0.0,\n",
       "  'Emi': 60819},\n",
       " {'amount': 100000.0,\n",
       "  'duration': 12.0,\n",
       "  'rate': 0.1,\n",
       "  'down_payment': 0.0,\n",
       "  'Emi': 8792},\n",
       " {'amount': 728400.0,\n",
       "  'duration': 120.0,\n",
       "  'rate': 0.12,\n",
       "  'down_payment': 100000.0,\n",
       "  'Emi': 9016},\n",
       " {'amount': 3637400.0,\n",
       "  'duration': 240.0,\n",
       "  'rate': 0.06,\n",
       "  'down_payment': 0.0,\n",
       "  'Emi': 26060},\n",
       " {'amount': 82900.0,\n",
       "  'duration': 90.0,\n",
       "  'rate': 0.07,\n",
       "  'down_payment': 8900.0,\n",
       "  'Emi': 1060},\n",
       " {'amount': 316000.0,\n",
       "  'duration': 16.0,\n",
       "  'rate': 0.13,\n",
       "  'down_payment': 0.0,\n",
       "  'Emi': 21618},\n",
       " {'amount': 15230.0,\n",
       "  'duration': 48.0,\n",
       "  'rate': 0.08,\n",
       "  'down_payment': 4300.0,\n",
       "  'Emi': 267},\n",
       " {'amount': 991360.0,\n",
       "  'duration': 99.0,\n",
       "  'rate': 0.08,\n",
       "  'down_payment': 0.0,\n",
       "  'Emi': 13712},\n",
       " {'amount': 323000.0,\n",
       "  'duration': 27.0,\n",
       "  'rate': 0.09,\n",
       "  'down_payment': 4720010000.0,\n",
       "  'Emi': -193751447},\n",
       " {'amount': 528400.0,\n",
       "  'duration': 120.0,\n",
       "  'rate': 0.11,\n",
       "  'down_payment': 100000.0,\n",
       "  'Emi': 5902},\n",
       " {'amount': 8633400.0,\n",
       "  'duration': 240.0,\n",
       "  'rate': 0.06,\n",
       "  'down_payment': 0.0,\n",
       "  'Emi': 61853},\n",
       " {'amount': 12900.0,\n",
       "  'duration': 90.0,\n",
       "  'rate': 0.08,\n",
       "  'down_payment': 8900.0,\n",
       "  'Emi': 60}]"
      ]
     },
     "execution_count": 106,
     "metadata": {},
     "output_type": "execute_result"
    }
   ],
   "source": [
    "dict3"
   ]
  },
  {
   "cell_type": "code",
   "execution_count": 10,
   "id": "83501172",
   "metadata": {},
   "outputs": [],
   "source": [
    "# lets learn \".join\" in python"
   ]
  },
  {
   "cell_type": "code",
   "execution_count": 11,
   "id": "f062d281",
   "metadata": {},
   "outputs": [],
   "source": [
    "name=\"_\".join(\"Gyan\")"
   ]
  },
  {
   "cell_type": "code",
   "execution_count": 12,
   "id": "95d17242",
   "metadata": {},
   "outputs": [
    {
     "data": {
      "text/plain": [
       "'G_y_a_n'"
      ]
     },
     "execution_count": 12,
     "metadata": {},
     "output_type": "execute_result"
    }
   ],
   "source": [
    "name\n"
   ]
  },
  {
   "cell_type": "code",
   "execution_count": 13,
   "id": "ba520a13",
   "metadata": {},
   "outputs": [],
   "source": [
    "name=\"gyan\".join(\" dev\")"
   ]
  },
  {
   "cell_type": "code",
   "execution_count": 14,
   "id": "a4743025",
   "metadata": {},
   "outputs": [
    {
     "data": {
      "text/plain": [
       "' gyandgyanegyanv'"
      ]
     },
     "execution_count": 14,
     "metadata": {},
     "output_type": "execute_result"
    }
   ],
   "source": [
    "name"
   ]
  },
  {
   "cell_type": "code",
   "execution_count": 18,
   "id": "c53af352",
   "metadata": {},
   "outputs": [
    {
     "ename": "TypeError",
     "evalue": "sequence item 0: expected str instance, int found",
     "output_type": "error",
     "traceback": [
      "\u001b[1;31m---------------------------------------------------------------------------\u001b[0m",
      "\u001b[1;31mTypeError\u001b[0m                                 Traceback (most recent call last)",
      "Cell \u001b[1;32mIn[18], line 1\u001b[0m\n\u001b[1;32m----> 1\u001b[0m naam\u001b[38;5;241m=\u001b[39m\u001b[38;5;124;43m\"\u001b[39;49m\u001b[38;5;124;43m*\u001b[39;49m\u001b[38;5;124;43m\"\u001b[39;49m\u001b[38;5;241;43m.\u001b[39;49m\u001b[43mjoin\u001b[49m\u001b[43m(\u001b[49m\u001b[43m[\u001b[49m\u001b[38;5;241;43m4454464\u001b[39;49m\u001b[43m]\u001b[49m\u001b[43m)\u001b[49m\n",
      "\u001b[1;31mTypeError\u001b[0m: sequence item 0: expected str instance, int found"
     ]
    }
   ],
   "source": [
    "naam=\"*\".join([4454464])"
   ]
  },
  {
   "cell_type": "code",
   "execution_count": 16,
   "id": "24f59989",
   "metadata": {},
   "outputs": [
    {
     "data": {
      "text/plain": [
       "'4*4*5*4*4*6*4'"
      ]
     },
     "execution_count": 16,
     "metadata": {},
     "output_type": "execute_result"
    }
   ],
   "source": [
    "naam"
   ]
  },
  {
   "cell_type": "code",
   "execution_count": 19,
   "id": "e66e3abe",
   "metadata": {},
   "outputs": [
    {
     "data": {
      "text/plain": [
       "'gyan-dev-sharma'"
      ]
     },
     "execution_count": 19,
     "metadata": {},
     "output_type": "execute_result"
    }
   ],
   "source": [
    "\"-\".join(['gyan','dev','sharma'])"
   ]
  },
  {
   "cell_type": "code",
   "execution_count": 3,
   "id": "f4f417f8",
   "metadata": {},
   "outputs": [
    {
     "data": {
      "text/plain": [
       "'name-class'"
      ]
     },
     "execution_count": 3,
     "metadata": {},
     "output_type": "execute_result"
    }
   ],
   "source": [
    "s=\"-\"\n",
    "student={\"name\":\"gyan\",\"class\":\"cse-c\"}\n",
    "s.join(student)\n",
    "\n",
    "# only keys will be joined with '-'"
   ]
  },
  {
   "cell_type": "code",
   "execution_count": 55,
   "id": "768cf105",
   "metadata": {},
   "outputs": [
    {
     "data": {
      "text/plain": [
       "'gyan_dev_a_sharma_a'"
      ]
     },
     "execution_count": 55,
     "metadata": {},
     "output_type": "execute_result"
    }
   ],
   "source": [
    "# Comprehensions in containers when using if-else conditions.\n",
    "\n",
    "names=[\"gyan\",\"dev\",\"\",\"sharma\",\"\"]\n",
    "\"_\".join(word if word else (word+\"a\") for word in names)"
   ]
  },
  {
   "cell_type": "code",
   "execution_count": 1,
   "id": "0ff18efc",
   "metadata": {},
   "outputs": [
    {
     "ename": "SyntaxError",
     "evalue": "expected 'else' after 'if' expression (4165119345.py, line 4)",
     "output_type": "error",
     "traceback": [
      "\u001b[1;36m  Cell \u001b[1;32mIn[1], line 4\u001b[1;36m\u001b[0m\n\u001b[1;33m    \"_\".join(word if word  for word in names)\u001b[0m\n\u001b[1;37m             ^\u001b[0m\n\u001b[1;31mSyntaxError\u001b[0m\u001b[1;31m:\u001b[0m expected 'else' after 'if' expression\n"
     ]
    }
   ],
   "source": [
    "# Comprehensions in containers when using only if condition not else.\n",
    "# This is the wrong way\n",
    "\n",
    "names=[\"gyan\",\"dev\",\"\",\"sharma\",\"\"]\n",
    "\"_\".join(word if word  for word in names)"
   ]
  },
  {
   "cell_type": "code",
   "execution_count": 2,
   "id": "17e0d5be",
   "metadata": {},
   "outputs": [
    {
     "data": {
      "text/plain": [
       "'gyan_dev_sharma'"
      ]
     },
     "execution_count": 2,
     "metadata": {},
     "output_type": "execute_result"
    }
   ],
   "source": [
    "# Comprehensions in containers when using only if condition not else.\n",
    "# This is the right way\n",
    "\n",
    "names=[\"gyan\",\"dev\",\"\",\"sharma\",\"\"]\n",
    "\"_\".join(word for word in names if word )"
   ]
  },
  {
   "cell_type": "markdown",
   "id": "f6b99089",
   "metadata": {},
   "source": [
    "The join() method takes all items in an iterable and joins them into one string."
   ]
  },
  {
   "cell_type": "markdown",
   "id": "fb954d92",
   "metadata": {},
   "source": [
    "------------------------   Pandas csv files  -------------------"
   ]
  },
  {
   "cell_type": "code",
   "execution_count": 4,
   "id": "0c4eae01",
   "metadata": {},
   "outputs": [],
   "source": [
    "movies_url=\"https://gist.githubusercontent.com/aakashns/afee0a407d44bbc02321993548021af9/raw/6d7473f0ac4c54aca65fc4b06ed831b8a4840190/movies.csv\""
   ]
  },
  {
   "cell_type": "code",
   "execution_count": 6,
   "id": "3db8889a",
   "metadata": {},
   "outputs": [
    {
     "data": {
      "text/plain": [
       "('data/slakfslk.csv', <http.client.HTTPMessage at 0x1d838a65180>)"
      ]
     },
     "execution_count": 6,
     "metadata": {},
     "output_type": "execute_result"
    }
   ],
   "source": [
    "from urllib.request import urlretrieve\n",
    "\n",
    "urlretrieve(movies_url,\"data/slakfslk.csv\")"
   ]
  },
  {
   "cell_type": "code",
   "execution_count": 7,
   "id": "4935efb6",
   "metadata": {},
   "outputs": [],
   "source": [
    "!pip install pandas --upgrade --quiet"
   ]
  },
  {
   "cell_type": "code",
   "execution_count": 8,
   "id": "fecd612a",
   "metadata": {},
   "outputs": [],
   "source": [
    "import pandas as pd"
   ]
  },
  {
   "cell_type": "code",
   "execution_count": 9,
   "id": "7abd24a8",
   "metadata": {},
   "outputs": [],
   "source": [
    "movies_dataFrame=pd.read_csv(\"./data/movies.csv\")"
   ]
  },
  {
   "cell_type": "code",
   "execution_count": 10,
   "id": "8fe4b88f",
   "metadata": {},
   "outputs": [
    {
     "data": {
      "text/html": [
       "<div>\n",
       "<style scoped>\n",
       "    .dataframe tbody tr th:only-of-type {\n",
       "        vertical-align: middle;\n",
       "    }\n",
       "\n",
       "    .dataframe tbody tr th {\n",
       "        vertical-align: top;\n",
       "    }\n",
       "\n",
       "    .dataframe thead th {\n",
       "        text-align: right;\n",
       "    }\n",
       "</style>\n",
       "<table border=\"1\" class=\"dataframe\">\n",
       "  <thead>\n",
       "    <tr style=\"text-align: right;\">\n",
       "      <th></th>\n",
       "      <th>title</th>\n",
       "      <th>description</th>\n",
       "    </tr>\n",
       "  </thead>\n",
       "  <tbody>\n",
       "    <tr>\n",
       "      <th>0</th>\n",
       "      <td>Fast &amp; Furious</td>\n",
       "      <td>A movie, a race, a franchise</td>\n",
       "    </tr>\n",
       "    <tr>\n",
       "      <th>1</th>\n",
       "      <td>The Dark Knight</td>\n",
       "      <td>Gotham, the \"Batman\", and the Joker</td>\n",
       "    </tr>\n",
       "    <tr>\n",
       "      <th>2</th>\n",
       "      <td>Memento</td>\n",
       "      <td>A guy forgets everything every 15 minutes</td>\n",
       "    </tr>\n",
       "  </tbody>\n",
       "</table>\n",
       "</div>"
      ],
      "text/plain": [
       "             title                                description\n",
       "0   Fast & Furious               A movie, a race, a franchise\n",
       "1  The Dark Knight        Gotham, the \"Batman\", and the Joker\n",
       "2          Memento  A guy forgets everything every 15 minutes"
      ]
     },
     "execution_count": 10,
     "metadata": {},
     "output_type": "execute_result"
    }
   ],
   "source": [
    "movies_dataFrame"
   ]
  },
  {
   "cell_type": "code",
   "execution_count": 21,
   "id": "91907917",
   "metadata": {},
   "outputs": [],
   "source": [
    "# to convert dataFrame in pandas to list of dictionaries, use to_dict('records')\n",
    "\n",
    "movies_dict=movies_dataFrame.to_dict('records')"
   ]
  },
  {
   "cell_type": "code",
   "execution_count": 22,
   "id": "7b9d1bc3",
   "metadata": {},
   "outputs": [
    {
     "data": {
      "text/plain": [
       "[{'title': 'Fast & Furious', 'description': 'A movie, a race, a franchise'},\n",
       " {'title': 'The Dark Knight',\n",
       "  'description': 'Gotham, the \"Batman\", and the Joker'},\n",
       " {'title': 'Memento',\n",
       "  'description': 'A guy forgets everything every 15 minutes'}]"
      ]
     },
     "execution_count": 22,
     "metadata": {},
     "output_type": "execute_result"
    }
   ],
   "source": [
    "movies_dict"
   ]
  },
  {
   "cell_type": "markdown",
   "id": "6cfbbcb1",
   "metadata": {},
   "source": [
    "The default command line shell in Windows is not based on Unix or Linux. Windows operating system uses Command Prompt (cmd.exe) as its default command line shell. Command Prompt has its own set of commands and syntax that are specific to the Windows environment.\n",
    "\n"
   ]
  },
  {
   "cell_type": "code",
   "execution_count": 24,
   "id": "67486f78",
   "metadata": {},
   "outputs": [],
   "source": [
    "df=pd.DataFrame(movies_dict)"
   ]
  },
  {
   "cell_type": "code",
   "execution_count": 25,
   "id": "7d0bc3cd",
   "metadata": {},
   "outputs": [
    {
     "data": {
      "text/html": [
       "<div>\n",
       "<style scoped>\n",
       "    .dataframe tbody tr th:only-of-type {\n",
       "        vertical-align: middle;\n",
       "    }\n",
       "\n",
       "    .dataframe tbody tr th {\n",
       "        vertical-align: top;\n",
       "    }\n",
       "\n",
       "    .dataframe thead th {\n",
       "        text-align: right;\n",
       "    }\n",
       "</style>\n",
       "<table border=\"1\" class=\"dataframe\">\n",
       "  <thead>\n",
       "    <tr style=\"text-align: right;\">\n",
       "      <th></th>\n",
       "      <th>title</th>\n",
       "      <th>description</th>\n",
       "    </tr>\n",
       "  </thead>\n",
       "  <tbody>\n",
       "    <tr>\n",
       "      <th>0</th>\n",
       "      <td>Fast &amp; Furious</td>\n",
       "      <td>A movie, a race, a franchise</td>\n",
       "    </tr>\n",
       "    <tr>\n",
       "      <th>1</th>\n",
       "      <td>The Dark Knight</td>\n",
       "      <td>Gotham, the \"Batman\", and the Joker</td>\n",
       "    </tr>\n",
       "    <tr>\n",
       "      <th>2</th>\n",
       "      <td>Memento</td>\n",
       "      <td>A guy forgets everything every 15 minutes</td>\n",
       "    </tr>\n",
       "  </tbody>\n",
       "</table>\n",
       "</div>"
      ],
      "text/plain": [
       "             title                                description\n",
       "0   Fast & Furious               A movie, a race, a franchise\n",
       "1  The Dark Knight        Gotham, the \"Batman\", and the Joker\n",
       "2          Memento  A guy forgets everything every 15 minutes"
      ]
     },
     "execution_count": 25,
     "metadata": {},
     "output_type": "execute_result"
    }
   ],
   "source": [
    "df"
   ]
  },
  {
   "cell_type": "code",
   "execution_count": 32,
   "id": "85a9c5d4",
   "metadata": {},
   "outputs": [],
   "source": [
    "df.to_csv(\"./data/movies4.csv\",index=True,index_label=\"No.\")"
   ]
  },
  {
   "cell_type": "code",
   "execution_count": 4,
   "id": "b227d212",
   "metadata": {},
   "outputs": [
    {
     "name": "stdout",
     "output_type": "stream",
     "text": [
      "<class 'str'>\n"
     ]
    }
   ],
   "source": [
    "(print(type(\",\".join(['1','2','3','4']))))"
   ]
  },
  {
   "cell_type": "code",
   "execution_count": null,
   "id": "7117f64d",
   "metadata": {},
   "outputs": [],
   "source": []
  }
 ],
 "metadata": {
  "kernelspec": {
   "display_name": "Python 3 (ipykernel)",
   "language": "python",
   "name": "python3"
  },
  "language_info": {
   "codemirror_mode": {
    "name": "ipython",
    "version": 3
   },
   "file_extension": ".py",
   "mimetype": "text/x-python",
   "name": "python",
   "nbconvert_exporter": "python",
   "pygments_lexer": "ipython3",
   "version": "3.10.9"
  }
 },
 "nbformat": 4,
 "nbformat_minor": 5
}
