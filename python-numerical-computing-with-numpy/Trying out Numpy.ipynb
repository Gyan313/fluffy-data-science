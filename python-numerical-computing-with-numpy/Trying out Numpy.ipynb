{
 "cells": [
  {
   "cell_type": "code",
   "execution_count": 1,
   "id": "f85766b4",
   "metadata": {},
   "outputs": [],
   "source": [
    "wieghts=[0.1,0.2,0.3]\n",
    "kato=[76,45,44]\n",
    "\n",
    "def crop_yield(regin,weights):\n",
    "    result=0\n",
    "    for x,w in list(zip(regin,weights)):\n",
    "        result+=x*w\n",
    "    print(result)"
   ]
  },
  {
   "cell_type": "code",
   "execution_count": 2,
   "id": "afd3a7ff",
   "metadata": {},
   "outputs": [
    {
     "name": "stdout",
     "output_type": "stream",
     "text": [
      "29.8\n"
     ]
    }
   ],
   "source": [
    "crop_yield(kato,wieghts)"
   ]
  },
  {
   "cell_type": "code",
   "execution_count": 3,
   "id": "f72e3206",
   "metadata": {},
   "outputs": [
    {
     "name": "stdout",
     "output_type": "stream",
     "text": [
      "<zip object at 0x000001C00FCD1E40>\n"
     ]
    }
   ],
   "source": [
    "print(zip(kato,wieghts))"
   ]
  },
  {
   "cell_type": "code",
   "execution_count": 4,
   "id": "4fc8d4de",
   "metadata": {},
   "outputs": [
    {
     "name": "stdout",
     "output_type": "stream",
     "text": [
      "[(76, 0.1), (45, 0.2), (44, 0.3)]\n"
     ]
    }
   ],
   "source": [
    "print(list(zip(kato,wieghts)))"
   ]
  },
  {
   "cell_type": "code",
   "execution_count": 5,
   "id": "48721c9d",
   "metadata": {},
   "outputs": [
    {
     "ename": "TypeError",
     "evalue": "int() argument must be a string, a bytes-like object or a real number, not 'dict'",
     "output_type": "error",
     "traceback": [
      "\u001b[1;31m---------------------------------------------------------------------------\u001b[0m",
      "\u001b[1;31mTypeError\u001b[0m                                 Traceback (most recent call last)",
      "Cell \u001b[1;32mIn[5], line 1\u001b[0m\n\u001b[1;32m----> 1\u001b[0m \u001b[38;5;28;43mint\u001b[39;49m\u001b[43m(\u001b[49m\u001b[38;5;28;43mdict\u001b[39;49m\u001b[43m(\u001b[49m\u001b[38;5;28;43mzip\u001b[39;49m\u001b[43m(\u001b[49m\u001b[43mkato\u001b[49m\u001b[43m,\u001b[49m\u001b[43mwieghts\u001b[49m\u001b[43m)\u001b[49m\u001b[43m)\u001b[49m\u001b[43m)\u001b[49m\n",
      "\u001b[1;31mTypeError\u001b[0m: int() argument must be a string, a bytes-like object or a real number, not 'dict'"
     ]
    }
   ],
   "source": [
    "int(dict(zip(kato,wieghts)))"
   ]
  },
  {
   "cell_type": "code",
   "execution_count": null,
   "id": "03a0c460",
   "metadata": {},
   "outputs": [],
   "source": [
    "int(str(zip(kato,wieghts)))"
   ]
  },
  {
   "cell_type": "code",
   "execution_count": null,
   "id": "1837a839",
   "metadata": {},
   "outputs": [],
   "source": [
    "import numpy as np"
   ]
  },
  {
   "cell_type": "code",
   "execution_count": null,
   "id": "e5530241",
   "metadata": {},
   "outputs": [],
   "source": [
    "numbers=np.array(1,2,3)\n",
    "numbers"
   ]
  },
  {
   "cell_type": "code",
   "execution_count": null,
   "id": "86769cde",
   "metadata": {},
   "outputs": [],
   "source": [
    "numbers=[1,2,3,4]\n",
    "numpy_array=np.array(numbers)"
   ]
  },
  {
   "cell_type": "code",
   "execution_count": null,
   "id": "60da5d07",
   "metadata": {},
   "outputs": [],
   "source": [
    "print(numpy_array)"
   ]
  },
  {
   "cell_type": "code",
   "execution_count": null,
   "id": "3bc81291",
   "metadata": {},
   "outputs": [],
   "source": [
    "numpy_array[0]"
   ]
  },
  {
   "cell_type": "code",
   "execution_count": null,
   "id": "69289460",
   "metadata": {},
   "outputs": [],
   "source": [
    "n1=np.array([1,2,3,4])"
   ]
  },
  {
   "cell_type": "code",
   "execution_count": null,
   "id": "3fc9faec",
   "metadata": {},
   "outputs": [],
   "source": [
    "print(n1)"
   ]
  },
  {
   "cell_type": "code",
   "execution_count": null,
   "id": "95b98421",
   "metadata": {},
   "outputs": [],
   "source": [
    "n2=np.array([7,8,9,5])"
   ]
  },
  {
   "cell_type": "code",
   "execution_count": null,
   "id": "0aa151e9",
   "metadata": {},
   "outputs": [],
   "source": [
    "print(n2)"
   ]
  },
  {
   "cell_type": "code",
   "execution_count": null,
   "id": "e566d331",
   "metadata": {},
   "outputs": [],
   "source": [
    "np.dot(n1,n2) # --> dot product of 2 numpy array."
   ]
  },
  {
   "cell_type": "code",
   "execution_count": null,
   "id": "55b586f2",
   "metadata": {},
   "outputs": [],
   "source": [
    "n1*n2 # --> dot product of n1 and n2"
   ]
  },
  {
   "cell_type": "code",
   "execution_count": null,
   "id": "040b3424",
   "metadata": {},
   "outputs": [],
   "source": [
    "type(n1)"
   ]
  },
  {
   "cell_type": "code",
   "execution_count": null,
   "id": "028c1d7f",
   "metadata": {},
   "outputs": [],
   "source": [
    "np.dot(n1,n2)"
   ]
  },
  {
   "cell_type": "code",
   "execution_count": null,
   "id": "aa4fdddf",
   "metadata": {},
   "outputs": [],
   "source": [
    "n1.sum()"
   ]
  },
  {
   "cell_type": "code",
   "execution_count": null,
   "id": "93c1225c",
   "metadata": {},
   "outputs": [],
   "source": [
    "(n1*n2).sum()"
   ]
  },
  {
   "cell_type": "code",
   "execution_count": null,
   "id": "60d87eac",
   "metadata": {},
   "outputs": [],
   "source": [
    "np.dot(n1,n2)"
   ]
  },
  {
   "cell_type": "code",
   "execution_count": null,
   "id": "7ac68ed0",
   "metadata": {},
   "outputs": [],
   "source": [
    "%%time \n",
    "# ---> to evaluate the execution time of the code snippet.\n",
    "np.dot(n1,n2)"
   ]
  },
  {
   "cell_type": "code",
   "execution_count": null,
   "id": "d66464f2",
   "metadata": {},
   "outputs": [],
   "source": [
    "range(1,2)"
   ]
  },
  {
   "cell_type": "code",
   "execution_count": null,
   "id": "6dbd51b3",
   "metadata": {},
   "outputs": [],
   "source": [
    "list(range(1,2))"
   ]
  },
  {
   "cell_type": "code",
   "execution_count": null,
   "id": "a1f72e35",
   "metadata": {},
   "outputs": [],
   "source": [
    "n1.shape()"
   ]
  },
  {
   "cell_type": "code",
   "execution_count": null,
   "id": "2fbc30d4",
   "metadata": {},
   "outputs": [],
   "source": [
    "n1.shape\n"
   ]
  },
  {
   "cell_type": "code",
   "execution_count": null,
   "id": "679f3bd9",
   "metadata": {},
   "outputs": [],
   "source": [
    "two_d_array=np.array([\n",
    "    [1,2,3,4],\n",
    "    [2,3,4,5]\n",
    "])"
   ]
  },
  {
   "cell_type": "code",
   "execution_count": null,
   "id": "43a5034f",
   "metadata": {},
   "outputs": [],
   "source": [
    "two_d_array"
   ]
  },
  {
   "cell_type": "code",
   "execution_count": null,
   "id": "3b872459",
   "metadata": {},
   "outputs": [],
   "source": [
    "two_d_array.shape\n"
   ]
  },
  {
   "cell_type": "code",
   "execution_count": null,
   "id": "2126cfd2",
   "metadata": {},
   "outputs": [],
   "source": [
    "lis_t=[1,\"bool\",True]"
   ]
  },
  {
   "cell_type": "code",
   "execution_count": null,
   "id": "d68cbad3",
   "metadata": {},
   "outputs": [],
   "source": [
    "lis_t"
   ]
  },
  {
   "cell_type": "code",
   "execution_count": null,
   "id": "dbbf052a",
   "metadata": {},
   "outputs": [],
   "source": [
    "arr=np.array(lis_t)"
   ]
  },
  {
   "cell_type": "code",
   "execution_count": null,
   "id": "1df5c024",
   "metadata": {},
   "outputs": [],
   "source": [
    "arr"
   ]
  },
  {
   "cell_type": "code",
   "execution_count": null,
   "id": "580dff8f",
   "metadata": {},
   "outputs": [],
   "source": [
    "arr.dtype"
   ]
  },
  {
   "cell_type": "code",
   "execution_count": null,
   "id": "0bcfc261",
   "metadata": {},
   "outputs": [],
   "source": [
    "arr1=np.array([1,2,3])"
   ]
  },
  {
   "cell_type": "code",
   "execution_count": null,
   "id": "e02bb218",
   "metadata": {},
   "outputs": [],
   "source": [
    "arr1.dtype"
   ]
  },
  {
   "cell_type": "code",
   "execution_count": null,
   "id": "399d3058",
   "metadata": {},
   "outputs": [],
   "source": [
    "np.array([1,2.2,2]).dtype"
   ]
  },
  {
   "cell_type": "code",
   "execution_count": null,
   "id": "ed2562f8",
   "metadata": {},
   "outputs": [],
   "source": [
    "weights=np.array([\n",
    "    [1],\n",
    "    [2],\n",
    "    [3],\n",
    "    [4]\n",
    "])"
   ]
  },
  {
   "cell_type": "code",
   "execution_count": null,
   "id": "181e5d19",
   "metadata": {},
   "outputs": [],
   "source": [
    "climate_data = np.array([[73, 67, 43],\n",
    "                         [91, 88, 64],\n",
    "                         [87, 134, 58],\n",
    "                         [102, 43, 37],\n",
    "                         [69, 96, 70]\n",
    "                        ]);\n",
    "# climate_data a (5,3) matrix."
   ]
  },
  {
   "cell_type": "code",
   "execution_count": null,
   "id": "2274a8f2",
   "metadata": {},
   "outputs": [],
   "source": [
    "weigths=[0.3, 0.2, 0.5]  # ---> a matrix with 3 rows and 1 column. meaning (3,1) matrix.\n",
    "\n",
    "weight=np.array(weigths)"
   ]
  },
  {
   "cell_type": "code",
   "execution_count": null,
   "id": "4aca7343",
   "metadata": {},
   "outputs": [],
   "source": [
    "np.matmul(climate_data,wieghts)"
   ]
  },
  {
   "cell_type": "code",
   "execution_count": null,
   "id": "7bb2257e",
   "metadata": {},
   "outputs": [],
   "source": [
    "np.matmul(climate_data,weight)"
   ]
  },
  {
   "cell_type": "code",
   "execution_count": null,
   "id": "135c914f",
   "metadata": {},
   "outputs": [],
   "source": [
    "np.matmul(climate_data,wieghts)\n"
   ]
  },
  {
   "cell_type": "code",
   "execution_count": null,
   "id": "7fd86e81",
   "metadata": {},
   "outputs": [],
   "source": [
    "climate_data@weight"
   ]
  },
  {
   "cell_type": "code",
   "execution_count": null,
   "id": "9bdbd4f3",
   "metadata": {},
   "outputs": [],
   "source": [
    "import urllib.request\n",
    "\n",
    "urllib.request.urlretrieve('https://gist.github.com/BirajCoder/a4ffcb76fd6fb221d76ac2ee2b8584e9/raw/4054f90adfd361b7aa4255e99c2e874664094cea/climate.csv', \n",
    "    'climate_text.txt')"
   ]
  },
  {
   "cell_type": "code",
   "execution_count": null,
   "id": "2c81de9b",
   "metadata": {},
   "outputs": [],
   "source": [
    "climate_data=np.genfromtxt(\"climate_text.txt\",delimiter=\",\",skip_header=1)"
   ]
  },
  {
   "cell_type": "code",
   "execution_count": null,
   "id": "2a743496",
   "metadata": {},
   "outputs": [],
   "source": [
    "climate_data"
   ]
  },
  {
   "cell_type": "code",
   "execution_count": null,
   "id": "b9bc96a5",
   "metadata": {},
   "outputs": [],
   "source": [
    "climate_data.shape\n"
   ]
  },
  {
   "cell_type": "code",
   "execution_count": null,
   "id": "abf6c38e",
   "metadata": {},
   "outputs": [],
   "source": [
    "climate_data.sum()"
   ]
  },
  {
   "cell_type": "code",
   "execution_count": null,
   "id": "4008fece",
   "metadata": {},
   "outputs": [],
   "source": [
    "climate_data.dtype\n"
   ]
  },
  {
   "cell_type": "code",
   "execution_count": null,
   "id": "ac61c6b1",
   "metadata": {},
   "outputs": [],
   "source": [
    "weights"
   ]
  },
  {
   "cell_type": "code",
   "execution_count": null,
   "id": "4c02a6f1",
   "metadata": {},
   "outputs": [],
   "source": [
    "wieghts"
   ]
  },
  {
   "cell_type": "code",
   "execution_count": null,
   "id": "4743dbb3",
   "metadata": {},
   "outputs": [],
   "source": [
    "weight"
   ]
  },
  {
   "cell_type": "code",
   "execution_count": null,
   "id": "4a39c1bc",
   "metadata": {},
   "outputs": [],
   "source": [
    "yields=climate_data@weight"
   ]
  },
  {
   "cell_type": "code",
   "execution_count": null,
   "id": "66bfdbf7",
   "metadata": {},
   "outputs": [],
   "source": [
    "yields.shape\n"
   ]
  },
  {
   "cell_type": "code",
   "execution_count": null,
   "id": "54360404",
   "metadata": {},
   "outputs": [],
   "source": [
    "climate_results=np.concatenate((climate_data,yields.reshape(10000,1)),axis=1)"
   ]
  },
  {
   "cell_type": "code",
   "execution_count": null,
   "id": "b370ff34",
   "metadata": {},
   "outputs": [],
   "source": [
    "climate_results"
   ]
  },
  {
   "cell_type": "code",
   "execution_count": null,
   "id": "324cdc3a",
   "metadata": {},
   "outputs": [],
   "source": [
    "arr4=[\n",
    "    [\n",
    "        [1,2,3],\n",
    "        [3,4,5],\n",
    "    ],\n",
    "    [\n",
    "        [2,3,4],\n",
    "        [5,6,7],\n",
    "    ]\n",
    "]"
   ]
  },
  {
   "cell_type": "code",
   "execution_count": null,
   "id": "c9e4e817",
   "metadata": {},
   "outputs": [],
   "source": [
    "arr4"
   ]
  },
  {
   "cell_type": "code",
   "execution_count": null,
   "id": "e4f1f696",
   "metadata": {},
   "outputs": [],
   "source": [
    "array=np.array(arr4)\n"
   ]
  },
  {
   "cell_type": "code",
   "execution_count": null,
   "id": "ff72b4b7",
   "metadata": {},
   "outputs": [],
   "source": [
    "array.shape\n"
   ]
  },
  {
   "cell_type": "code",
   "execution_count": null,
   "id": "badce77a",
   "metadata": {},
   "outputs": [],
   "source": [
    "mul=array@weight"
   ]
  },
  {
   "cell_type": "code",
   "execution_count": null,
   "id": "c56790ac",
   "metadata": {},
   "outputs": [],
   "source": [
    "mul.shape"
   ]
  },
  {
   "cell_type": "code",
   "execution_count": null,
   "id": "c35cbdb5",
   "metadata": {},
   "outputs": [],
   "source": [
    "mul.size"
   ]
  },
  {
   "cell_type": "code",
   "execution_count": null,
   "id": "97e17c59",
   "metadata": {},
   "outputs": [],
   "source": [
    "np.savetxt('climate_results.txt',\n",
    "           climate_results,\n",
    "           fmt=\"%.2f\",\n",
    "           delimiter=\",\",\n",
    "           header=\"temperature,rainfall,humidity,yield_apples\",\n",
    "           comments=\"\"\n",
    "          )"
   ]
  },
  {
   "cell_type": "code",
   "execution_count": null,
   "id": "ecd8e11c",
   "metadata": {},
   "outputs": [],
   "source": [
    "result=climate_data+1 #---> here 1 is a scalar as we are adding it in the numpy array. \n",
    "#                           1 is going to be added in every element of the climate_data array\n",
    "result"
   ]
  },
  {
   "cell_type": "code",
   "execution_count": null,
   "id": "4ac4777e",
   "metadata": {},
   "outputs": [],
   "source": [
    "arr1=[[1,2,3],\n",
    "      [2,3,5]]"
   ]
  },
  {
   "cell_type": "code",
   "execution_count": null,
   "id": "a569a6ff",
   "metadata": {},
   "outputs": [],
   "source": [
    "arr2=[[1,2,3,4],\n",
    "      [2,3,5,3]\n",
    "     ]"
   ]
  },
  {
   "cell_type": "code",
   "execution_count": null,
   "id": "b256e43d",
   "metadata": {},
   "outputs": [],
   "source": [
    "arr=np.array(arr1)\n",
    "arr_sub=np.array(arr2)"
   ]
  },
  {
   "cell_type": "code",
   "execution_count": null,
   "id": "2c925c1f",
   "metadata": {},
   "outputs": [],
   "source": [
    "arr_sub-arr"
   ]
  },
  {
   "cell_type": "code",
   "execution_count": null,
   "id": "c1799991",
   "metadata": {},
   "outputs": [],
   "source": [
    "arr3=np.array([[1,2,3,],\n",
    "      [2,3,5,]\n",
    "     ])"
   ]
  },
  {
   "cell_type": "code",
   "execution_count": null,
   "id": "ab463f6e",
   "metadata": {},
   "outputs": [],
   "source": [
    "arr1/arr3"
   ]
  },
  {
   "cell_type": "code",
   "execution_count": null,
   "id": "5b89af0c",
   "metadata": {},
   "outputs": [],
   "source": [
    "# arrray broadcasting\n",
    "\n",
    "arr4=np.array([\n",
    "    [1,2,3],\n",
    "])"
   ]
  },
  {
   "cell_type": "code",
   "execution_count": null,
   "id": "5852f50e",
   "metadata": {},
   "outputs": [],
   "source": [
    "arr1/arr4"
   ]
  },
  {
   "cell_type": "code",
   "execution_count": null,
   "id": "d1c9141a",
   "metadata": {},
   "outputs": [],
   "source": [
    "arr1 == arr2"
   ]
  },
  {
   "cell_type": "code",
   "execution_count": null,
   "id": "2f5cbb9a",
   "metadata": {},
   "outputs": [],
   "source": [
    "arr2=np.array([[1,2,4]])"
   ]
  },
  {
   "cell_type": "code",
   "execution_count": null,
   "id": "e292f1fe",
   "metadata": {},
   "outputs": [],
   "source": [
    "arr1 == arr2"
   ]
  },
  {
   "cell_type": "code",
   "execution_count": null,
   "id": "70a22559",
   "metadata": {},
   "outputs": [],
   "source": [
    "import numpy as np\n",
    "arr=np.array([\n",
    "    [1,2,3],\n",
    "    [4,5,6]\n",
    "])"
   ]
  },
  {
   "cell_type": "code",
   "execution_count": null,
   "id": "61cc8ae3",
   "metadata": {},
   "outputs": [],
   "source": [
    "arr1=np.array([\n",
    "    [1,2,3],\n",
    "    [5,6,7]\n",
    "])"
   ]
  },
  {
   "cell_type": "code",
   "execution_count": null,
   "id": "359e5a33",
   "metadata": {},
   "outputs": [],
   "source": [
    "arr==arr1"
   ]
  },
  {
   "cell_type": "code",
   "execution_count": null,
   "id": "07e6d4ee",
   "metadata": {},
   "outputs": [],
   "source": [
    "arr2=np.array([\n",
    "    [1,2,3]\n",
    "])"
   ]
  },
  {
   "cell_type": "code",
   "execution_count": null,
   "id": "40a3102a",
   "metadata": {},
   "outputs": [],
   "source": [
    "arr==arr2"
   ]
  },
  {
   "cell_type": "code",
   "execution_count": null,
   "id": "91cca366",
   "metadata": {},
   "outputs": [],
   "source": [
    "arr>arr2"
   ]
  },
  {
   "cell_type": "code",
   "execution_count": null,
   "id": "ea9fe66c",
   "metadata": {},
   "outputs": [],
   "source": [
    "arr!=arr2"
   ]
  },
  {
   "cell_type": "code",
   "execution_count": null,
   "id": "359aebfa",
   "metadata": {},
   "outputs": [],
   "source": [
    "(arr==arr2).sum()"
   ]
  },
  {
   "cell_type": "code",
   "execution_count": null,
   "id": "2cc8e2c8",
   "metadata": {},
   "outputs": [],
   "source": [
    "arr3 = np.array([\n",
    "    [\n",
    "        [11, 12, 13, 14], \n",
    "        [13, 14, 15, 19]\n",
    "    ], \n",
    "    [\n",
    "        [15, 16, 17, 21], \n",
    "        [63, 92, 36, 18]\n",
    "    ], \n",
    "    [\n",
    "        [98, 32, 81, 23],      \n",
    "        [17, 18, 19.5, 43]\n",
    "    ]\n",
    "])"
   ]
  },
  {
   "cell_type": "code",
   "execution_count": null,
   "id": "80013435",
   "metadata": {},
   "outputs": [],
   "source": [
    "arr3.shape"
   ]
  },
  {
   "cell_type": "code",
   "execution_count": null,
   "id": "136305ac",
   "metadata": {},
   "outputs": [],
   "source": [
    "arr3.ndim\n"
   ]
  },
  {
   "cell_type": "code",
   "execution_count": null,
   "id": "9ca3fad1",
   "metadata": {},
   "outputs": [],
   "source": [
    "arr3[0,0,3]"
   ]
  },
  {
   "cell_type": "code",
   "execution_count": null,
   "id": "06e0f937",
   "metadata": {},
   "outputs": [],
   "source": [
    "arr3"
   ]
  },
  {
   "cell_type": "code",
   "execution_count": null,
   "id": "9c38c683",
   "metadata": {},
   "outputs": [],
   "source": [
    "l=[1,2,3,4]"
   ]
  },
  {
   "cell_type": "code",
   "execution_count": null,
   "id": "8580bce6",
   "metadata": {},
   "outputs": [],
   "source": [
    "l[1:-2]"
   ]
  },
  {
   "cell_type": "code",
   "execution_count": null,
   "id": "73f2b19c",
   "metadata": {},
   "outputs": [],
   "source": [
    "np.zeroes((3,2))"
   ]
  },
  {
   "cell_type": "code",
   "execution_count": null,
   "id": "4003c413",
   "metadata": {},
   "outputs": [],
   "source": [
    "np.zeros((3,4))"
   ]
  },
  {
   "cell_type": "code",
   "execution_count": null,
   "id": "61951a4c",
   "metadata": {},
   "outputs": [],
   "source": [
    "np.zeros((2,2,3))"
   ]
  },
  {
   "cell_type": "code",
   "execution_count": null,
   "id": "0e4c71e1",
   "metadata": {},
   "outputs": [],
   "source": [
    "np.ones((1,2))"
   ]
  },
  {
   "cell_type": "code",
   "execution_count": null,
   "id": "e74e9b13",
   "metadata": {},
   "outputs": [],
   "source": [
    "np.eye((2,5,5))"
   ]
  },
  {
   "cell_type": "code",
   "execution_count": null,
   "id": "0320c5c3",
   "metadata": {},
   "outputs": [],
   "source": [
    "np.eye(3)"
   ]
  },
  {
   "cell_type": "code",
   "execution_count": null,
   "id": "83ba8068",
   "metadata": {},
   "outputs": [],
   "source": [
    "np.eye(4,3)"
   ]
  },
  {
   "cell_type": "code",
   "execution_count": null,
   "id": "e27a7233",
   "metadata": {},
   "outputs": [],
   "source": [
    "np.eye(3,4,5)"
   ]
  },
  {
   "cell_type": "code",
   "execution_count": null,
   "id": "e60ce447",
   "metadata": {},
   "outputs": [],
   "source": [
    "np.eye(2,2)"
   ]
  },
  {
   "cell_type": "code",
   "execution_count": null,
   "id": "a4f65191",
   "metadata": {},
   "outputs": [],
   "source": [
    "np.eye(M=2)"
   ]
  },
  {
   "cell_type": "code",
   "execution_count": null,
   "id": "9a36c722",
   "metadata": {},
   "outputs": [],
   "source": [
    "np.eye(N=2)"
   ]
  },
  {
   "cell_type": "code",
   "execution_count": null,
   "id": "08e0a88c",
   "metadata": {},
   "outputs": [],
   "source": [
    "help(np.random.rand)"
   ]
  },
  {
   "cell_type": "code",
   "execution_count": null,
   "id": "da9a65da",
   "metadata": {},
   "outputs": [],
   "source": [
    "arr=np.array(np.random.rand(5))"
   ]
  },
  {
   "cell_type": "code",
   "execution_count": null,
   "id": "d571fb8e",
   "metadata": {},
   "outputs": [],
   "source": [
    "arr"
   ]
  },
  {
   "cell_type": "code",
   "execution_count": null,
   "id": "ee439c52",
   "metadata": {},
   "outputs": [],
   "source": [
    "np.random.rand(3,4)"
   ]
  },
  {
   "cell_type": "code",
   "execution_count": null,
   "id": "21c2e245",
   "metadata": {},
   "outputs": [],
   "source": [
    "np.random.randn(3)"
   ]
  },
  {
   "cell_type": "code",
   "execution_count": null,
   "id": "eba993e9",
   "metadata": {},
   "outputs": [],
   "source": [
    "np.random.randn(2,3)"
   ]
  },
  {
   "cell_type": "code",
   "execution_count": null,
   "id": "b6e6fa54",
   "metadata": {},
   "outputs": [],
   "source": [
    "np.full([2,2,3],1)"
   ]
  },
  {
   "cell_type": "code",
   "execution_count": null,
   "id": "973789e2",
   "metadata": {},
   "outputs": [],
   "source": [
    "np.arange(1,10,2)"
   ]
  },
  {
   "cell_type": "code",
   "execution_count": null,
   "id": "85becc2f",
   "metadata": {},
   "outputs": [],
   "source": [
    "np.arange(20)"
   ]
  },
  {
   "cell_type": "code",
   "execution_count": null,
   "id": "e3489c79",
   "metadata": {},
   "outputs": [],
   "source": [
    "np.linspace(21,199,20)"
   ]
  },
  {
   "cell_type": "code",
   "execution_count": null,
   "id": "b51a5c8d",
   "metadata": {},
   "outputs": [],
   "source": [
    "np.linspace(10,100,retstep=False)"
   ]
  },
  {
   "cell_type": "code",
   "execution_count": null,
   "id": "1c975275",
   "metadata": {},
   "outputs": [],
   "source": [
    "import numpy as np"
   ]
  },
  {
   "cell_type": "code",
   "execution_count": null,
   "id": "44907c28",
   "metadata": {},
   "outputs": [],
   "source": [
    "np.linspace(10,100,retstep=True)"
   ]
  },
  {
   "cell_type": "code",
   "execution_count": null,
   "id": "1e433f76",
   "metadata": {},
   "outputs": [],
   "source": [
    "array,step=np.linspace([1,2,3],[[2,5,6],\n",
    "                    [4,9,7]],10,retstep=True,axis=0)"
   ]
  },
  {
   "cell_type": "code",
   "execution_count": null,
   "id": "fbca91e5",
   "metadata": {},
   "outputs": [],
   "source": [
    "array"
   ]
  },
  {
   "cell_type": "code",
   "execution_count": null,
   "id": "fb5474c8",
   "metadata": {},
   "outputs": [],
   "source": [
    "step"
   ]
  },
  {
   "cell_type": "code",
   "execution_count": null,
   "id": "05142379",
   "metadata": {},
   "outputs": [],
   "source": [
    "np.mean([1,2,3])"
   ]
  },
  {
   "cell_type": "code",
   "execution_count": null,
   "id": "cf88f780",
   "metadata": {},
   "outputs": [],
   "source": [
    "np.mean([\n",
    "    [1,2,3],\n",
    "    [3,5,6]\n",
    "],axis=(0,1),out=array)"
   ]
  },
  {
   "cell_type": "code",
   "execution_count": null,
   "id": "f5ea9447",
   "metadata": {},
   "outputs": [],
   "source": [
    "np.mean(4)"
   ]
  },
  {
   "cell_type": "code",
   "execution_count": null,
   "id": "8830b401",
   "metadata": {},
   "outputs": [],
   "source": [
    "np.mean([1,2,3],dtype=int)"
   ]
  },
  {
   "cell_type": "code",
   "execution_count": null,
   "id": "7a223011",
   "metadata": {},
   "outputs": [],
   "source": [
    "np.mean([1,2,3])"
   ]
  },
  {
   "cell_type": "code",
   "execution_count": null,
   "id": "3352975e",
   "metadata": {},
   "outputs": [],
   "source": [
    "\n",
    "np.mean([1,2,3],out=array)"
   ]
  },
  {
   "cell_type": "code",
   "execution_count": null,
   "id": "eff79040",
   "metadata": {},
   "outputs": [],
   "source": [
    "\n",
    "np.mean([1,2,3],axis=1)"
   ]
  },
  {
   "cell_type": "code",
   "execution_count": null,
   "id": "79176d58",
   "metadata": {},
   "outputs": [],
   "source": [
    "result=np.empty(2)\n",
    "np.mean([[1,2,3],\n",
    "        [4,5,6]],keepdims=True)"
   ]
  },
  {
   "cell_type": "code",
   "execution_count": null,
   "id": "11848bad",
   "metadata": {},
   "outputs": [],
   "source": [
    "result = np.mean([1,2,3])"
   ]
  },
  {
   "cell_type": "code",
   "execution_count": null,
   "id": "6f426618",
   "metadata": {},
   "outputs": [],
   "source": [
    "result\n"
   ]
  },
  {
   "cell_type": "code",
   "execution_count": null,
   "id": "950b5fa0",
   "metadata": {},
   "outputs": [],
   "source": [
    "np.empty([2,3])"
   ]
  },
  {
   "cell_type": "code",
   "execution_count": null,
   "id": "dbc947fb",
   "metadata": {},
   "outputs": [],
   "source": [
    "np.empty([1,2,3])"
   ]
  },
  {
   "cell_type": "code",
   "execution_count": null,
   "id": "02b12add",
   "metadata": {},
   "outputs": [],
   "source": [
    "np.zeros([1,2,3])"
   ]
  },
  {
   "cell_type": "code",
   "execution_count": null,
   "id": "9517e33b",
   "metadata": {},
   "outputs": [],
   "source": [
    "np.empty([2,3],like=[[2,2,2,]])"
   ]
  },
  {
   "cell_type": "code",
   "execution_count": null,
   "id": "e0ecc16b",
   "metadata": {},
   "outputs": [],
   "source": [
    "import numpy as np\n"
   ]
  },
  {
   "cell_type": "code",
   "execution_count": null,
   "id": "815cb397",
   "metadata": {},
   "outputs": [],
   "source": [
    "result=np.array([1,2,3],dtype=int)"
   ]
  },
  {
   "cell_type": "code",
   "execution_count": null,
   "id": "ffb9502c",
   "metadata": {},
   "outputs": [],
   "source": [
    "np.array(result,dtype=float)"
   ]
  },
  {
   "cell_type": "code",
   "execution_count": null,
   "id": "f6c40bfa",
   "metadata": {},
   "outputs": [],
   "source": [
    "l=[[[0,1]]*10]*3  # --> a way to create list."
   ]
  },
  {
   "cell_type": "code",
   "execution_count": null,
   "id": "d7ceec58",
   "metadata": {},
   "outputs": [],
   "source": [
    "l"
   ]
  },
  {
   "cell_type": "code",
   "execution_count": null,
   "id": "0707af7f",
   "metadata": {},
   "outputs": [],
   "source": [
    "from sys import getsizeof\n",
    "import numpy as np\n",
    "my_list = [1, 2, 3, 4, 5]\n",
    "n=np.array(my_list)\n",
    "size = getsizeof(my_list)\n",
    "print(size)  # Prints the size of my_list in bytes\n",
    "print(n.size*n.itemsize)"
   ]
  },
  {
   "cell_type": "code",
   "execution_count": null,
   "id": "462c97ba",
   "metadata": {},
   "outputs": [],
   "source": [
    "x1=np.array([1,2,3,4])\n",
    "x2=np.array([5,6,6,4])\n",
    "\n",
    "x1+x2"
   ]
  },
  {
   "cell_type": "code",
   "execution_count": null,
   "id": "265fe630",
   "metadata": {},
   "outputs": [],
   "source": [
    "x1 = np.arange(9.0).reshape((2,7))"
   ]
  },
  {
   "cell_type": "code",
   "execution_count": null,
   "id": "5f61cabf",
   "metadata": {},
   "outputs": [],
   "source": [
    "x1"
   ]
  },
  {
   "cell_type": "code",
   "execution_count": null,
   "id": "00901a66",
   "metadata": {},
   "outputs": [],
   "source": [
    "import numpy as np\n",
    "np.zeros(4)"
   ]
  },
  {
   "cell_type": "code",
   "execution_count": null,
   "id": "dbd23041",
   "metadata": {},
   "outputs": [],
   "source": [
    "np.nan"
   ]
  },
  {
   "cell_type": "code",
   "execution_count": null,
   "id": "cbc800af",
   "metadata": {},
   "outputs": [],
   "source": [
    "0*np.nan"
   ]
  },
  {
   "cell_type": "code",
   "execution_count": null,
   "id": "de97631e",
   "metadata": {},
   "outputs": [],
   "source": [
    "1+np.nan"
   ]
  },
  {
   "cell_type": "code",
   "execution_count": null,
   "id": "345c4a09",
   "metadata": {},
   "outputs": [],
   "source": [
    "np.nan/5"
   ]
  },
  {
   "cell_type": "code",
   "execution_count": null,
   "id": "d3097e5e",
   "metadata": {},
   "outputs": [],
   "source": [
    "np.nan% 4"
   ]
  },
  {
   "cell_type": "code",
   "execution_count": null,
   "id": "304ea12b",
   "metadata": {},
   "outputs": [],
   "source": [
    "import re\n",
    "a = re.search('a','Python Quiz')\n",
    "print(a)"
   ]
  },
  {
   "cell_type": "code",
   "execution_count": 4,
   "id": "7c30d384",
   "metadata": {},
   "outputs": [
    {
     "data": {
      "text/plain": [
       "array([[1, 1, 1, 1, 1]])"
      ]
     },
     "execution_count": 4,
     "metadata": {},
     "output_type": "execute_result"
    }
   ],
   "source": [
    "import numpy as np\n",
    "np.tile([1],(1,5))"
   ]
  },
  {
   "cell_type": "code",
   "execution_count": 1,
   "id": "2c06f5a9",
   "metadata": {},
   "outputs": [],
   "source": [
    "kanto = [73, 67, 43]\n",
    "johto = [91, 88, 64]\n",
    "hoenn = [87, 134, 58]\n",
    "sinnoh = [102, 43, 37]\n",
    "unova = [69, 96, 70]\n",
    "\n",
    "w1, w2, w3 = 0.3, 0.2, 0.5\n",
    "weights = [w1, w2, w3]"
   ]
  },
  {
   "cell_type": "code",
   "execution_count": 2,
   "id": "afb96789",
   "metadata": {},
   "outputs": [],
   "source": [
    "def yeild(region,weights):\n",
    "    result=0\n",
    "    for x,w in zip(region,weights):\n",
    "        result+=x*w\n",
    "    return result"
   ]
  },
  {
   "cell_type": "code",
   "execution_count": 3,
   "id": "c7ba62d5",
   "metadata": {},
   "outputs": [
    {
     "data": {
      "text/plain": [
       "56.8"
      ]
     },
     "execution_count": 3,
     "metadata": {},
     "output_type": "execute_result"
    }
   ],
   "source": [
    "yeild(kanto,weights)"
   ]
  },
  {
   "cell_type": "code",
   "execution_count": 1,
   "id": "43fdd640",
   "metadata": {},
   "outputs": [],
   "source": [
    "import numpy as np"
   ]
  },
  {
   "cell_type": "code",
   "execution_count": 6,
   "id": "835ad728",
   "metadata": {},
   "outputs": [
    {
     "data": {
      "text/plain": [
       "'C:\\\\ProgramData\\\\anaconda3\\\\lib\\\\site-packages\\\\numpy\\\\__pycache__\\\\__init__.cpython-310.pyc'"
      ]
     },
     "execution_count": 6,
     "metadata": {},
     "output_type": "execute_result"
    }
   ],
   "source": [
    "np.__cached__"
   ]
  },
  {
   "cell_type": "code",
   "execution_count": 11,
   "id": "17754c76",
   "metadata": {},
   "outputs": [
    {
     "name": "stdout",
     "output_type": "stream",
     "text": [
      "blas_armpl_info:\n",
      "  NOT AVAILABLE\n",
      "blas_mkl_info:\n",
      "    libraries = ['mkl_rt']\n",
      "    library_dirs = ['C:/ProgramData/anaconda3\\\\Library\\\\lib']\n",
      "    define_macros = [('SCIPY_MKL_H', None), ('HAVE_CBLAS', None)]\n",
      "    include_dirs = ['C:/ProgramData/anaconda3\\\\Library\\\\include']\n",
      "blas_opt_info:\n",
      "    libraries = ['mkl_rt']\n",
      "    library_dirs = ['C:/ProgramData/anaconda3\\\\Library\\\\lib']\n",
      "    define_macros = [('SCIPY_MKL_H', None), ('HAVE_CBLAS', None)]\n",
      "    include_dirs = ['C:/ProgramData/anaconda3\\\\Library\\\\include']\n",
      "lapack_armpl_info:\n",
      "  NOT AVAILABLE\n",
      "lapack_mkl_info:\n",
      "    libraries = ['mkl_rt']\n",
      "    library_dirs = ['C:/ProgramData/anaconda3\\\\Library\\\\lib']\n",
      "    define_macros = [('SCIPY_MKL_H', None), ('HAVE_CBLAS', None)]\n",
      "    include_dirs = ['C:/ProgramData/anaconda3\\\\Library\\\\include']\n",
      "lapack_opt_info:\n",
      "    libraries = ['mkl_rt']\n",
      "    library_dirs = ['C:/ProgramData/anaconda3\\\\Library\\\\lib']\n",
      "    define_macros = [('SCIPY_MKL_H', None), ('HAVE_CBLAS', None)]\n",
      "    include_dirs = ['C:/ProgramData/anaconda3\\\\Library\\\\include']\n",
      "Supported SIMD extensions in this NumPy install:\n",
      "    baseline = SSE,SSE2,SSE3\n",
      "    found = SSSE3,SSE41,POPCNT,SSE42,AVX,F16C,FMA3,AVX2,AVX512F,AVX512CD,AVX512_SKX,AVX512_CLX,AVX512_CNL\n",
      "    not found = \n"
     ]
    },
    {
     "ename": "TypeError",
     "evalue": "'NoneType' object is not iterable",
     "output_type": "error",
     "traceback": [
      "\u001b[1;31m---------------------------------------------------------------------------\u001b[0m",
      "\u001b[1;31mTypeError\u001b[0m                                 Traceback (most recent call last)",
      "Cell \u001b[1;32mIn[11], line 1\u001b[0m\n\u001b[1;32m----> 1\u001b[0m \u001b[38;5;28;43mlist\u001b[39;49m\u001b[43m(\u001b[49m\u001b[43mnp\u001b[49m\u001b[38;5;241;43m.\u001b[39;49m\u001b[43mshow_config\u001b[49m\u001b[43m(\u001b[49m\u001b[43m)\u001b[49m\u001b[43m)\u001b[49m\n",
      "\u001b[1;31mTypeError\u001b[0m: 'NoneType' object is not iterable"
     ]
    }
   ],
   "source": [
    "(np.show_config())"
   ]
  },
  {
   "cell_type": "code",
   "execution_count": 16,
   "id": "885ab59c",
   "metadata": {},
   "outputs": [
    {
     "data": {
      "text/plain": [
       "array([0, 1, 2])"
      ]
     },
     "execution_count": 16,
     "metadata": {},
     "output_type": "execute_result"
    }
   ],
   "source": [
    "np.arange(3)"
   ]
  },
  {
   "cell_type": "code",
   "execution_count": 17,
   "id": "0556a295",
   "metadata": {},
   "outputs": [
    {
     "data": {
      "text/plain": [
       "array([[ 0,  1,  2],\n",
       "       [ 4,  5,  6],\n",
       "       [ 8,  9, 10]])"
      ]
     },
     "execution_count": 17,
     "metadata": {},
     "output_type": "execute_result"
    }
   ],
   "source": [
    "np.arange(9).reshape((3,3)) + np.arange(3).reshape(3,1)"
   ]
  },
  {
   "cell_type": "code",
   "execution_count": 37,
   "id": "b22a54dd",
   "metadata": {},
   "outputs": [],
   "source": [
    "zeros = np.zeros((2,8),int)"
   ]
  },
  {
   "cell_type": "code",
   "execution_count": 46,
   "id": "4f677196",
   "metadata": {},
   "outputs": [
    {
     "data": {
      "text/plain": [
       "array([[0, 0, 0, 0],\n",
       "       [0, 0, 0, 0],\n",
       "       [0, 0, 0, 0],\n",
       "       [0, 0, 0, 0]])"
      ]
     },
     "execution_count": 46,
     "metadata": {},
     "output_type": "execute_result"
    }
   ],
   "source": [
    "zeros.reshape(4,4)"
   ]
  },
  {
   "cell_type": "code",
   "execution_count": 39,
   "id": "8e41b2b6",
   "metadata": {},
   "outputs": [],
   "source": [
    "arr1 = np.array([1,3])"
   ]
  },
  {
   "cell_type": "code",
   "execution_count": 40,
   "id": "2c75a785",
   "metadata": {},
   "outputs": [
    {
     "data": {
      "text/plain": [
       "array([1, 3])"
      ]
     },
     "execution_count": 40,
     "metadata": {},
     "output_type": "execute_result"
    }
   ],
   "source": [
    "arr1"
   ]
  },
  {
   "cell_type": "code",
   "execution_count": 41,
   "id": "b9cb87a0",
   "metadata": {},
   "outputs": [],
   "source": [
    "arr2 = np.array([9,6])"
   ]
  },
  {
   "cell_type": "code",
   "execution_count": 42,
   "id": "e21d5fdc",
   "metadata": {},
   "outputs": [
    {
     "data": {
      "text/plain": [
       "array([9, 6])"
      ]
     },
     "execution_count": 42,
     "metadata": {},
     "output_type": "execute_result"
    }
   ],
   "source": [
    "arr2"
   ]
  },
  {
   "cell_type": "code",
   "execution_count": 43,
   "id": "a66846b4",
   "metadata": {},
   "outputs": [
    {
     "data": {
      "text/plain": [
       "array([10,  9])"
      ]
     },
     "execution_count": 43,
     "metadata": {},
     "output_type": "execute_result"
    }
   ],
   "source": [
    "arr1 + arr2"
   ]
  },
  {
   "cell_type": "code",
   "execution_count": 45,
   "id": "b3fa0006",
   "metadata": {},
   "outputs": [
    {
     "data": {
      "text/plain": [
       "array([1, 3, 9, 6])"
      ]
     },
     "execution_count": 45,
     "metadata": {},
     "output_type": "execute_result"
    }
   ],
   "source": [
    "np.concatenate((arr1,arr2))"
   ]
  },
  {
   "cell_type": "code",
   "execution_count": 47,
   "id": "22aaebaf",
   "metadata": {},
   "outputs": [],
   "source": [
    "arr1 = np.tile([0,1],4)"
   ]
  },
  {
   "cell_type": "code",
   "execution_count": 48,
   "id": "b72a3575",
   "metadata": {},
   "outputs": [],
   "source": [
    "arr2 = np.tile([1,0],4)"
   ]
  },
  {
   "cell_type": "code",
   "execution_count": 49,
   "id": "4cfd4ad7",
   "metadata": {},
   "outputs": [
    {
     "data": {
      "text/plain": [
       "array([0, 1, 0, 1, 0, 1, 0, 1])"
      ]
     },
     "execution_count": 49,
     "metadata": {},
     "output_type": "execute_result"
    }
   ],
   "source": [
    "arr1 "
   ]
  },
  {
   "cell_type": "code",
   "execution_count": 50,
   "id": "b522d1c2",
   "metadata": {},
   "outputs": [
    {
     "data": {
      "text/plain": [
       "array([1, 0, 1, 0, 1, 0, 1, 0])"
      ]
     },
     "execution_count": 50,
     "metadata": {},
     "output_type": "execute_result"
    }
   ],
   "source": [
    "arr2"
   ]
  },
  {
   "cell_type": "code",
   "execution_count": 52,
   "id": "d8472e3d",
   "metadata": {},
   "outputs": [],
   "source": [
    "arr3 = np.concatenate((arr1,arr2))"
   ]
  },
  {
   "cell_type": "code",
   "execution_count": 53,
   "id": "736a1f23",
   "metadata": {},
   "outputs": [
    {
     "data": {
      "text/plain": [
       "array([0, 1, 0, 1, 0, 1, 0, 1, 1, 0, 1, 0, 1, 0, 1, 0])"
      ]
     },
     "execution_count": 53,
     "metadata": {},
     "output_type": "execute_result"
    }
   ],
   "source": [
    "arr3"
   ]
  },
  {
   "cell_type": "code",
   "execution_count": 60,
   "id": "14348f45",
   "metadata": {},
   "outputs": [],
   "source": [
    "arr4 = np.tile(arr3,4).reshape(8,8)"
   ]
  },
  {
   "cell_type": "code",
   "execution_count": 59,
   "id": "37e19cc3",
   "metadata": {},
   "outputs": [
    {
     "name": "stdout",
     "output_type": "stream",
     "text": [
      "[[0 1 0 1 0 1 0 1]\n",
      " [1 0 1 0 1 0 1 0]\n",
      " [0 1 0 1 0 1 0 1]\n",
      " [1 0 1 0 1 0 1 0]\n",
      " [0 1 0 1 0 1 0 1]\n",
      " [1 0 1 0 1 0 1 0]\n",
      " [0 1 0 1 0 1 0 1]\n",
      " [1 0 1 0 1 0 1 0]]\n"
     ]
    }
   ],
   "source": [
    "matrix=np.zeros((8,8),int)\n",
    "matrix[1::2,0::2]=1 #---> to put 1 on col =1 to col = last\n",
    "matrix[::2,1::2]=1   # ---> to put 1 on col=0 to col=last-1\n",
    "print(matrix)\n",
    "\n",
    "# 1 represents black and 0 represents white\n",
    "\n",
    "# list[start:stop:step] or np.array[start:stop:step]\n",
    "# so \"::2\" means start=0 and stop=0 and step=2=every other element"
   ]
  },
  {
   "cell_type": "code",
   "execution_count": 61,
   "id": "da348052",
   "metadata": {},
   "outputs": [
    {
     "data": {
      "text/plain": [
       "array([[ True,  True,  True,  True,  True,  True,  True,  True],\n",
       "       [ True,  True,  True,  True,  True,  True,  True,  True],\n",
       "       [ True,  True,  True,  True,  True,  True,  True,  True],\n",
       "       [ True,  True,  True,  True,  True,  True,  True,  True],\n",
       "       [ True,  True,  True,  True,  True,  True,  True,  True],\n",
       "       [ True,  True,  True,  True,  True,  True,  True,  True],\n",
       "       [ True,  True,  True,  True,  True,  True,  True,  True],\n",
       "       [ True,  True,  True,  True,  True,  True,  True,  True]])"
      ]
     },
     "execution_count": 61,
     "metadata": {},
     "output_type": "execute_result"
    }
   ],
   "source": [
    "matrix == arr4"
   ]
  },
  {
   "cell_type": "code",
   "execution_count": 62,
   "id": "55223f9b",
   "metadata": {},
   "outputs": [
    {
     "data": {
      "text/plain": [
       "(8, 8)"
      ]
     },
     "execution_count": 62,
     "metadata": {},
     "output_type": "execute_result"
    }
   ],
   "source": [
    "arr4.shape"
   ]
  },
  {
   "cell_type": "code",
   "execution_count": 63,
   "id": "c4cc9033",
   "metadata": {},
   "outputs": [],
   "source": [
    "# https://www.freetext.org/Introduction_to_Linear_Algebra/Basic_Vector_Operations/Normalization/\n",
    "\n",
    "# go here to understand matrix normalization "
   ]
  },
  {
   "cell_type": "code",
   "execution_count": null,
   "id": "9bb110f1",
   "metadata": {},
   "outputs": [],
   "source": []
  }
 ],
 "metadata": {
  "kernelspec": {
   "display_name": "Python 3 (ipykernel)",
   "language": "python",
   "name": "python3"
  },
  "language_info": {
   "codemirror_mode": {
    "name": "ipython",
    "version": 3
   },
   "file_extension": ".py",
   "mimetype": "text/x-python",
   "name": "python",
   "nbconvert_exporter": "python",
   "pygments_lexer": "ipython3",
   "version": "3.10.9"
  }
 },
 "nbformat": 4,
 "nbformat_minor": 5
}
