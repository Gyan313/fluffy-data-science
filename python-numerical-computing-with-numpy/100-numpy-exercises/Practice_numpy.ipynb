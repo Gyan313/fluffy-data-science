{
 "cells": [
  {
   "cell_type": "code",
   "execution_count": 1,
   "id": "09e28a5d",
   "metadata": {},
   "outputs": [],
   "source": [
    "import numpy as np"
   ]
  },
  {
   "cell_type": "code",
   "execution_count": 2,
   "id": "968a8b14",
   "metadata": {},
   "outputs": [
    {
     "data": {
      "text/plain": [
       "'1.23.5'"
      ]
     },
     "execution_count": 2,
     "metadata": {},
     "output_type": "execute_result"
    }
   ],
   "source": [
    "np.__version__"
   ]
  },
  {
   "cell_type": "code",
   "execution_count": 13,
   "id": "fede1ca4",
   "metadata": {},
   "outputs": [
    {
     "data": {
      "text/plain": [
       "8"
      ]
     },
     "execution_count": 13,
     "metadata": {},
     "output_type": "execute_result"
    }
   ],
   "source": [
    "n = np.zeros((4,4))\n",
    "import sys\n",
    "\n",
    "sys.getsizeof(n)\n",
    "\n",
    "n.itemsize"
   ]
  },
  {
   "cell_type": "code",
   "execution_count": 15,
   "id": "a3f88e61",
   "metadata": {},
   "outputs": [
    {
     "data": {
      "text/plain": [
       "array([10, 11, 12, 13, 14, 15, 16, 17, 18, 19, 20, 21, 22, 23, 24, 25, 26,\n",
       "       27, 28, 29, 30, 31, 32, 33, 34, 35, 36, 37, 38, 39, 40, 41, 42, 43,\n",
       "       44, 45, 46, 47, 48, 49])"
      ]
     },
     "execution_count": 15,
     "metadata": {},
     "output_type": "execute_result"
    }
   ],
   "source": [
    "np.linspace(10,49,dtype = int,num = 40)"
   ]
  },
  {
   "cell_type": "code",
   "execution_count": 18,
   "id": "bfae1887",
   "metadata": {},
   "outputs": [],
   "source": [
    "a = np.array([\n",
    "    [1,2,3],\n",
    "    [3,4,5]\n",
    "])\n",
    "\n",
    "a = np.flip(a,axis=0)"
   ]
  },
  {
   "cell_type": "code",
   "execution_count": 19,
   "id": "de19b215",
   "metadata": {},
   "outputs": [
    {
     "data": {
      "text/plain": [
       "array([[5, 4, 3],\n",
       "       [3, 2, 1]])"
      ]
     },
     "execution_count": 19,
     "metadata": {},
     "output_type": "execute_result"
    }
   ],
   "source": [
    "np.flip(a,axis=1)"
   ]
  },
  {
   "cell_type": "code",
   "execution_count": 26,
   "id": "8ab79d5f",
   "metadata": {},
   "outputs": [
    {
     "data": {
      "text/plain": [
       "5"
      ]
     },
     "execution_count": 26,
     "metadata": {},
     "output_type": "execute_result"
    }
   ],
   "source": [
    "a.max()"
   ]
  },
  {
   "cell_type": "code",
   "execution_count": 37,
   "id": "e367c508",
   "metadata": {},
   "outputs": [],
   "source": [
    "n = np.array([1,2,3,4,5,6,7,8,9,10])"
   ]
  },
  {
   "cell_type": "code",
   "execution_count": 41,
   "id": "6a5ede09",
   "metadata": {},
   "outputs": [
    {
     "data": {
      "text/plain": [
       "array([1, 2, 3, 4, 5, 6, 7, 8, 9])"
      ]
     },
     "execution_count": 41,
     "metadata": {},
     "output_type": "execute_result"
    }
   ],
   "source": [
    "n[:9]"
   ]
  },
  {
   "cell_type": "code",
   "execution_count": 45,
   "id": "bd8e8376",
   "metadata": {},
   "outputs": [],
   "source": [
    "e = np.linspace(1,16,num=16,dtype=int).reshape(4,4)"
   ]
  },
  {
   "cell_type": "code",
   "execution_count": 50,
   "id": "84266371",
   "metadata": {},
   "outputs": [],
   "source": [
    "e[:,0] = np.zeros(4)"
   ]
  },
  {
   "cell_type": "code",
   "execution_count": 53,
   "id": "82bab827",
   "metadata": {},
   "outputs": [],
   "source": [
    "e[:,3] = np.zeros(4)"
   ]
  },
  {
   "cell_type": "code",
   "execution_count": 58,
   "id": "a7be60d7",
   "metadata": {},
   "outputs": [],
   "source": [
    "e[0] = np.zeros(4)"
   ]
  },
  {
   "cell_type": "code",
   "execution_count": 59,
   "id": "05c3a3d2",
   "metadata": {},
   "outputs": [],
   "source": [
    "e[3] = np.zeros(4)"
   ]
  },
  {
   "cell_type": "code",
   "execution_count": 60,
   "id": "c73355a6",
   "metadata": {},
   "outputs": [
    {
     "data": {
      "text/plain": [
       "array([[ 0,  0,  0,  0],\n",
       "       [ 0,  6,  7,  0],\n",
       "       [ 0, 10, 11,  0],\n",
       "       [ 0,  0,  0,  0]])"
      ]
     },
     "execution_count": 60,
     "metadata": {},
     "output_type": "execute_result"
    }
   ],
   "source": [
    "e"
   ]
  },
  {
   "cell_type": "code",
   "execution_count": 61,
   "id": "28c66350",
   "metadata": {},
   "outputs": [
    {
     "data": {
      "text/plain": [
       "0.30000000000000004"
      ]
     },
     "execution_count": 61,
     "metadata": {},
     "output_type": "execute_result"
    }
   ],
   "source": [
    "3 * 0.1"
   ]
  },
  {
   "cell_type": "code",
   "execution_count": 63,
   "id": "7bf0554b",
   "metadata": {},
   "outputs": [
    {
     "data": {
      "text/plain": [
       "array([[0, 0, 0, 0, 0],\n",
       "       [0, 0, 0, 0, 0],\n",
       "       [0, 0, 0, 0, 0],\n",
       "       [0, 0, 0, 0, 0],\n",
       "       [0, 0, 0, 0, 0]])"
      ]
     },
     "execution_count": 63,
     "metadata": {},
     "output_type": "execute_result"
    }
   ],
   "source": [
    "np.zeros((5,5),dtype=int)"
   ]
  },
  {
   "cell_type": "code",
   "execution_count": 67,
   "id": "dee786e4",
   "metadata": {},
   "outputs": [
    {
     "data": {
      "text/plain": [
       "array([[0, 0, 0, 0, 0],\n",
       "       [1, 0, 0, 0, 0],\n",
       "       [0, 2, 0, 0, 0],\n",
       "       [0, 0, 3, 0, 0],\n",
       "       [0, 0, 0, 4, 0]])"
      ]
     },
     "execution_count": 67,
     "metadata": {},
     "output_type": "execute_result"
    }
   ],
   "source": [
    "np.diagflat([1,2,3,4],k=-1)"
   ]
  },
  {
   "cell_type": "code",
   "execution_count": 101,
   "id": "d5026ae2",
   "metadata": {},
   "outputs": [],
   "source": [
    "mat = np.zeros((4,4),dtype = int)"
   ]
  },
  {
   "cell_type": "code",
   "execution_count": 102,
   "id": "269ee1e4",
   "metadata": {},
   "outputs": [],
   "source": [
    "mat[0::2,::2] = 1\n",
    "mat[1::2,1::2] = 1"
   ]
  },
  {
   "cell_type": "code",
   "execution_count": 103,
   "id": "f955c548",
   "metadata": {},
   "outputs": [
    {
     "data": {
      "text/plain": [
       "array([[1, 0, 1, 0],\n",
       "       [0, 1, 0, 1],\n",
       "       [1, 0, 1, 0],\n",
       "       [0, 1, 0, 1]])"
      ]
     },
     "execution_count": 103,
     "metadata": {},
     "output_type": "execute_result"
    }
   ],
   "source": [
    "mat"
   ]
  },
  {
   "cell_type": "code",
   "execution_count": 7,
   "id": "25a82a99",
   "metadata": {},
   "outputs": [],
   "source": [
    "np.tile([1,0],4)\n",
    "np.tile([0,1],4)\n",
    "\n",
    "a = np.concatenate((np.tile([1,0],4),np.tile([0,1],4)))"
   ]
  },
  {
   "cell_type": "code",
   "execution_count": 20,
   "id": "224992ce",
   "metadata": {},
   "outputs": [
    {
     "data": {
      "text/plain": [
       "array([[1, 0, 1, 0, 1, 0, 1, 0],\n",
       "       [0, 1, 0, 1, 0, 1, 0, 1],\n",
       "       [1, 0, 1, 0, 1, 0, 1, 0],\n",
       "       [0, 1, 0, 1, 0, 1, 0, 1],\n",
       "       [1, 0, 1, 0, 1, 0, 1, 0],\n",
       "       [0, 1, 0, 1, 0, 1, 0, 1],\n",
       "       [1, 0, 1, 0, 1, 0, 1, 0],\n",
       "       [0, 1, 0, 1, 0, 1, 0, 1]])"
      ]
     },
     "execution_count": 20,
     "metadata": {},
     "output_type": "execute_result"
    }
   ],
   "source": [
    "np.tile(a,4).reshape(8,8)"
   ]
  },
  {
   "cell_type": "code",
   "execution_count": 22,
   "id": "5bbe52ee",
   "metadata": {},
   "outputs": [
    {
     "data": {
      "text/plain": [
       "array([[[ 0,  1,  2,  3],\n",
       "        [ 4,  5,  6,  7]],\n",
       "\n",
       "       [[ 8,  9, 10, 11],\n",
       "        [12, 13, 14, 15]]])"
      ]
     },
     "execution_count": 22,
     "metadata": {},
     "output_type": "execute_result"
    }
   ],
   "source": [
    "np.arange(2*2*4).reshape((2,2,4))"
   ]
  },
  {
   "cell_type": "code",
   "execution_count": 23,
   "id": "4367a7fc",
   "metadata": {},
   "outputs": [],
   "source": [
    "new = np.arange(11)"
   ]
  },
  {
   "cell_type": "code",
   "execution_count": 25,
   "id": "0ad4c578",
   "metadata": {},
   "outputs": [],
   "source": [
    "a = [new>3,new<8]"
   ]
  },
  {
   "cell_type": "code",
   "execution_count": 26,
   "id": "ccbe5a75",
   "metadata": {},
   "outputs": [
    {
     "data": {
      "text/plain": [
       "[array([False, False, False, False,  True,  True,  True,  True,  True,\n",
       "         True,  True]),\n",
       " array([ True,  True,  True,  True,  True,  True,  True,  True, False,\n",
       "        False, False])]"
      ]
     },
     "execution_count": 26,
     "metadata": {},
     "output_type": "execute_result"
    }
   ],
   "source": [
    "a"
   ]
  },
  {
   "cell_type": "code",
   "execution_count": 27,
   "id": "c31cb90f",
   "metadata": {},
   "outputs": [],
   "source": [
    "b = [new,-new]"
   ]
  },
  {
   "cell_type": "code",
   "execution_count": 28,
   "id": "7c5e0d23",
   "metadata": {},
   "outputs": [
    {
     "data": {
      "text/plain": [
       "[array([ 0,  1,  2,  3,  4,  5,  6,  7,  8,  9, 10]),\n",
       " array([  0,  -1,  -2,  -3,  -4,  -5,  -6,  -7,  -8,  -9, -10])]"
      ]
     },
     "execution_count": 28,
     "metadata": {},
     "output_type": "execute_result"
    }
   ],
   "source": [
    "b"
   ]
  },
  {
   "cell_type": "code",
   "execution_count": 29,
   "id": "67176997",
   "metadata": {},
   "outputs": [
    {
     "data": {
      "text/plain": [
       "array([ 0, -1, -2, -3,  4,  5,  6,  7,  8,  9, 10])"
      ]
     },
     "execution_count": 29,
     "metadata": {},
     "output_type": "execute_result"
    }
   ],
   "source": [
    "np.select(a,b)"
   ]
  },
  {
   "cell_type": "code",
   "execution_count": 1,
   "id": "4f8ea8af",
   "metadata": {},
   "outputs": [],
   "source": [
    "import numpy as np"
   ]
  },
  {
   "cell_type": "code",
   "execution_count": 2,
   "id": "b59dc1bd",
   "metadata": {},
   "outputs": [],
   "source": [
    "a = np.array([\n",
    "    [1,2,3,4],\n",
    "    [5,6,6,7],\n",
    "])\n",
    "\n",
    "b = np.array([\n",
    "    [1,2,3,4],\n",
    "    [9,8,7,0],\n",
    "])"
   ]
  },
  {
   "cell_type": "code",
   "execution_count": 3,
   "id": "de3cf91b",
   "metadata": {},
   "outputs": [
    {
     "data": {
      "text/plain": [
       "array([1, 2, 3, 4, 7])"
      ]
     },
     "execution_count": 3,
     "metadata": {},
     "output_type": "execute_result"
    }
   ],
   "source": [
    "np.intersect1d(a,b)"
   ]
  },
  {
   "cell_type": "code",
   "execution_count": 12,
   "id": "f98543c6",
   "metadata": {},
   "outputs": [
    {
     "data": {
      "text/plain": [
       "numpy.timedelta64(1,'D')"
      ]
     },
     "execution_count": 12,
     "metadata": {},
     "output_type": "execute_result"
    }
   ],
   "source": [
    "np.timedelta64(1,\"D\")"
   ]
  },
  {
   "cell_type": "code",
   "execution_count": 2,
   "id": "b1d84e1b",
   "metadata": {},
   "outputs": [],
   "source": [
    "import numpy as np"
   ]
  },
  {
   "cell_type": "code",
   "execution_count": 6,
   "id": "f46c17e7",
   "metadata": {},
   "outputs": [
    {
     "name": "stdout",
     "output_type": "stream",
     "text": [
      "2023-11-11\n",
      "2023-11-12\n",
      "2023-11-13\n"
     ]
    }
   ],
   "source": [
    "print(np.datetime64(\"today\",\"D\") - np.timedelta64(1,\"D\"))\n",
    "print(np.datetime64(\"today\"))\n",
    "print(np.datetime64(\"today\",\"D\") + np.timedelta64(1,\"D\"))"
   ]
  },
  {
   "cell_type": "code",
   "execution_count": 9,
   "id": "465cbc79",
   "metadata": {},
   "outputs": [
    {
     "data": {
      "text/plain": [
       "numpy.timedelta64(2,'D')"
      ]
     },
     "execution_count": 9,
     "metadata": {},
     "output_type": "execute_result"
    }
   ],
   "source": [
    "np.timedelta64(1,\"D\") + np.timedelta64(1,\"D\")"
   ]
  },
  {
   "cell_type": "code",
   "execution_count": null,
   "id": "0cc826d1",
   "metadata": {},
   "outputs": [],
   "source": []
  }
 ],
 "metadata": {
  "kernelspec": {
   "display_name": "Python 3 (ipykernel)",
   "language": "python",
   "name": "python3"
  },
  "language_info": {
   "codemirror_mode": {
    "name": "ipython",
    "version": 3
   },
   "file_extension": ".py",
   "mimetype": "text/x-python",
   "name": "python",
   "nbconvert_exporter": "python",
   "pygments_lexer": "ipython3",
   "version": "3.10.9"
  }
 },
 "nbformat": 4,
 "nbformat_minor": 5
}
