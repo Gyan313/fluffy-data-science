{
 "cells": [
  {
   "cell_type": "markdown",
   "metadata": {},
   "source": [
    "> ### **Assignment 2 - Numpy Array Operations** \n",
    ">\n",
    "> This assignment is part of the course [\"Data Analysis with Python: Zero to Pandas\"](http://zerotopandas.com). The objective of this assignment is to develop a solid understanding of Numpy array operations. In this assignment you will:\n",
    "> \n",
    "> 1. Pick 5 interesting Numpy array functions by going through the documentation: https://numpy.org/doc/stable/reference/routines.html \n",
    "> 2. Run and modify this Jupyter notebook to illustrate their usage (some explanation and 3 examples for each function). Use your imagination to come up with interesting and unique examples.\n",
    "> 3. Upload this notebook to your Jovian profile using `jovian.commit` and make a submission here: https://jovian.ml/learn/data-analysis-with-python-zero-to-pandas/assignment/assignment-2-numpy-array-operations\n",
    "> 4. (Optional) Share your notebook online (on Twitter, LinkedIn, Facebook) and on the community forum thread: https://jovian.ml/forum/t/assignment-2-numpy-array-operations-share-your-work/10575 . \n",
    "> 5. (Optional) Check out the notebooks [shared by other participants](https://jovian.ml/forum/t/assignment-2-numpy-array-operations-share-your-work/10575) and give feedback & appreciation.\n",
    ">\n",
    "> The recommended way to run this notebook is to click the \"Run\" button at the top of this page, and select \"Run on Binder\". This will run the notebook on mybinder.org, a free online service for running Jupyter notebooks.\n",
    ">\n",
    "> Try to give your notebook a catchy title & subtitle e.g. \"All about Numpy array operations\", \"5 Numpy functions you didn't know you needed\", \"A beginner's guide to broadcasting in Numpy\", \"Interesting ways to create Numpy arrays\", \"Trigonometic functions in Numpy\", \"How to use Python for Linear Algebra\" etc.\n",
    ">\n",
    "> **NOTE**: Remove this block of explanation text before submitting or sharing your notebook online - to make it more presentable.\n",
    "\n",
    "\n",
    "# Functions to get you started with Numpy Array\n",
    "\n",
    "\n",
    "### 5 Most Important Numpy Array Operations\n",
    "\n",
    ">NumPy is the fundamental package for scientific computing in Python. It is a Python library that provides a multidimensional array object, various derived objects (such as masked arrays and matrices), and an assortment of routines for fast operations on arrays.\n",
    "\n",
    ">A NumPy array is a fundamental data structure in the NumPy library.\n",
    "\n",
    ">Numpy array are similar to python list but numpy array are fast performance-wise and easy to use. \n",
    " \n",
    ">There are a lot of built-in functions that comes with numpy array to make our life easier when dealing with multi-dimensional   matrices.\n",
    " \n",
    ">Numpy Array are written in c++. All elements in Numpy array are homogenous(means same data type) to ease the  calculation part for us.Numpy Array has a fixed size.\n",
    "\n",
    "The 5 function we are going to discuss are....\n",
    "- function 1 == numpy.linspace\n",
    "- function 2 == numpy.mean\n",
    "- function 3 == numpy.empty\n",
    "- function 4 == numpy.array\n",
    "- function 5 == numpy.reshape\n",
    "\n",
    "The recommended way to run this notebook is to click the \"Run\" button at the top of this page, and select \"Run on Binder\". This will run the notebook on mybinder.org, a free online service for running Jupyter notebooks."
   ]
  },
  {
   "cell_type": "code",
   "execution_count": 1,
   "metadata": {},
   "outputs": [],
   "source": [
    "!pip install jovian --upgrade -q"
   ]
  },
  {
   "cell_type": "code",
   "execution_count": 1,
   "metadata": {},
   "outputs": [],
   "source": [
    "import jovian"
   ]
  },
  {
   "cell_type": "code",
   "execution_count": 2,
   "metadata": {},
   "outputs": [
    {
     "data": {
      "application/javascript": [
       "window.require && require([\"base/js/namespace\"],function(Jupyter){Jupyter.notebook.save_checkpoint()})"
      ],
      "text/plain": [
       "<IPython.core.display.Javascript object>"
      ]
     },
     "metadata": {},
     "output_type": "display_data"
    },
    {
     "name": "stdout",
     "output_type": "stream",
     "text": [
      "[jovian] Creating a new project \"gyan313/numpy-array-operations\"\u001b[0m\n",
      "[jovian] Committed successfully! https://jovian.com/gyan313/numpy-array-operations\u001b[0m\n"
     ]
    },
    {
     "data": {
      "text/plain": [
       "'https://jovian.com/gyan313/numpy-array-operations'"
      ]
     },
     "execution_count": 2,
     "metadata": {},
     "output_type": "execute_result"
    }
   ],
   "source": [
    "jovian.commit(project='numpy-array-operations')"
   ]
  },
  {
   "cell_type": "markdown",
   "metadata": {},
   "source": [
    "Let's begin by importing Numpy and listing out the functions covered in this notebook."
   ]
  },
  {
   "cell_type": "code",
   "execution_count": 3,
   "metadata": {},
   "outputs": [],
   "source": [
    "import numpy as np"
   ]
  },
  {
   "cell_type": "code",
   "execution_count": 50,
   "metadata": {},
   "outputs": [
    {
     "ename": "SyntaxError",
     "evalue": "invalid syntax (1296517494.py, line 3)",
     "output_type": "error",
     "traceback": [
      "\u001b[1;36m  Cell \u001b[1;32mIn[50], line 3\u001b[1;36m\u001b[0m\n\u001b[1;33m    function 1 = numpy.linspace()\u001b[0m\n\u001b[1;37m             ^\u001b[0m\n\u001b[1;31mSyntaxError\u001b[0m\u001b[1;31m:\u001b[0m invalid syntax\n"
     ]
    }
   ],
   "source": [
    "# List of functions explained \n",
    "\n",
    "function 1 = numpy.linspace()\n",
    "function 2 = numpy.mean()\n",
    "function 3 = numpy.empty()\n",
    "function 4 = numpy.array()\n",
    "function 5 = numpy.reshape()"
   ]
  },
  {
   "cell_type": "markdown",
   "metadata": {},
   "source": [
    "## Function 1 - np.linspace \n",
    "\n",
    "### Array creation routine\n",
    "Little Intro,\n",
    "\n",
    "- numpy.linspace() function returns a `ndarray` containing evenly spaced numbers over a specified interval(can be [start,end] or [start,end)).\n",
    "\n",
    "- The endpoint of the interval can optionally be excluded.\n",
    "\n",
    "- Syntax :  `numpy.linspace(start,end,num=50,endpoint=True,retstep=False,dtype=none,axis=0)`\n",
    "\n",
    "- start : array like value is added or a scalar can also be accepted.It is the start value of the squence.\n",
    "- end : array_like value or scalar value. May or may not be the Ending point of the squence.\n",
    "- num : Numbers of samples to be generated between `start` and `end`.By default it is 50.\n",
    "- endpoint : If True include the `end` else not `end` not included. By default True.\n",
    "- retstep : If True includes the `step-size` between every two values in the numbers generated.By default it is False.\n",
    "- dtype : data type of the ndarray generated or more precisely the data type of the elements of the ndarray generated. This dtype can never be `int` always float.\n",
    "- axis : only relevent if the value of the `start` and `end` is array_like. This specifies on which axis does this evenly generated samples to be generated."
   ]
  },
  {
   "cell_type": "code",
   "execution_count": 11,
   "metadata": {},
   "outputs": [
    {
     "name": "stdout",
     "output_type": "stream",
     "text": [
      "The array we got [20. 35. 50. 65. 80.] with spacing between each sample is 15.0.\n"
     ]
    }
   ],
   "source": [
    "# Example 1 - working \n",
    "\n",
    "array,step=np.linspace(20,80,num=5,retstep=True)\n",
    "print(f\"The array we got {array} with spacing between each sample is {step}.\")"
   ]
  },
  {
   "cell_type": "code",
   "execution_count": 14,
   "metadata": {},
   "outputs": [
    {
     "data": {
      "text/plain": [
       "array([[[ 1.        ,  2.        ,  9.        ],\n",
       "        [ 2.33333333,  3.33333333,  8.33333333],\n",
       "        [ 3.66666667,  4.66666667,  7.66666667],\n",
       "        [ 5.        ,  6.        ,  7.        ]],\n",
       "\n",
       "       [[ 3.        ,  4.        ,  1.        ],\n",
       "        [ 4.66666667,  5.66666667,  4.        ],\n",
       "        [ 6.33333333,  7.33333333,  7.        ],\n",
       "        [ 8.        ,  9.        , 10.        ]]])"
      ]
     },
     "execution_count": 14,
     "metadata": {},
     "output_type": "execute_result"
    }
   ],
   "source": [
    "# Example 2 - working\n",
    "\n",
    "arr1 = [[1, 2,9], \n",
    "        [3, 4.,1]]\n",
    "\n",
    "arr2 = [[5, 6, 7], \n",
    "        [8, 9, 10]]\n",
    "\n",
    "np.linspace(arr1,arr2,num=4,axis=1)"
   ]
  },
  {
   "cell_type": "markdown",
   "metadata": {},
   "source": [
    "**Explanation about example** ,\n",
    "\n",
    "```python\n",
    "array([[[ 1.        ,  2.        ,  9.        ],\n",
    "        [ 2.33333333,  3.33333333,  8.33333333],\n",
    "        [ 3.66666667,  4.66666667,  7.66666667],\n",
    "        [ 5.        ,  6.        ,  7.        ]],\n",
    "\n",
    "       [[ 3.        ,  4.        ,  1.        ],\n",
    "        [ 4.66666667,  5.66666667,  4.        ],\n",
    "        [ 6.33333333,  7.33333333,  7.        ],\n",
    "        [ 8.        ,  9.        , 10.        ]]])\n",
    "\n",
    "# dirn of axis=1 ------------------>\n",
    "# Checkout the first matrix inside the big array contains the interval start=1 and end=5 in its first column and so on for all the other numbers we passed in arr1 and arr2.\n",
    "```"
   ]
  },
  {
   "cell_type": "code",
   "execution_count": 15,
   "metadata": {},
   "outputs": [
    {
     "ename": "ValueError",
     "evalue": "operands could not be broadcast together with shapes (2,3) (2,2) ",
     "output_type": "error",
     "traceback": [
      "\u001b[1;31m---------------------------------------------------------------------------\u001b[0m",
      "\u001b[1;31mValueError\u001b[0m                                Traceback (most recent call last)",
      "Cell \u001b[1;32mIn[15], line 8\u001b[0m\n\u001b[0;32m      2\u001b[0m arr1 \u001b[38;5;241m=\u001b[39m [[\u001b[38;5;241m1\u001b[39m, \u001b[38;5;241m2\u001b[39m], \n\u001b[0;32m      3\u001b[0m         [\u001b[38;5;241m3\u001b[39m, \u001b[38;5;241m4.\u001b[39m]]\n\u001b[0;32m      5\u001b[0m arr2 \u001b[38;5;241m=\u001b[39m [[\u001b[38;5;241m5\u001b[39m, \u001b[38;5;241m6\u001b[39m, \u001b[38;5;241m7\u001b[39m], \n\u001b[0;32m      6\u001b[0m         [\u001b[38;5;241m8\u001b[39m, \u001b[38;5;241m9\u001b[39m, \u001b[38;5;241m10\u001b[39m]]\n\u001b[1;32m----> 8\u001b[0m \u001b[43mnp\u001b[49m\u001b[38;5;241;43m.\u001b[39;49m\u001b[43mlinspace\u001b[49m\u001b[43m(\u001b[49m\u001b[43marr1\u001b[49m\u001b[43m,\u001b[49m\u001b[43marr2\u001b[49m\u001b[43m,\u001b[49m\u001b[43mnum\u001b[49m\u001b[38;5;241;43m=\u001b[39;49m\u001b[38;5;241;43m4\u001b[39;49m\u001b[43m)\u001b[49m\n",
      "File \u001b[1;32m<__array_function__ internals>:200\u001b[0m, in \u001b[0;36mlinspace\u001b[1;34m(*args, **kwargs)\u001b[0m\n",
      "File \u001b[1;32m~\\AppData\\Roaming\\Python\\Python310\\site-packages\\numpy\\core\\function_base.py:138\u001b[0m, in \u001b[0;36mlinspace\u001b[1;34m(start, stop, num, endpoint, retstep, dtype, axis)\u001b[0m\n\u001b[0;32m    135\u001b[0m \u001b[38;5;28;01melse\u001b[39;00m:\n\u001b[0;32m    136\u001b[0m     integer_dtype \u001b[38;5;241m=\u001b[39m _nx\u001b[38;5;241m.\u001b[39missubdtype(dtype, _nx\u001b[38;5;241m.\u001b[39minteger)\n\u001b[1;32m--> 138\u001b[0m delta \u001b[38;5;241m=\u001b[39m \u001b[43mstop\u001b[49m\u001b[43m \u001b[49m\u001b[38;5;241;43m-\u001b[39;49m\u001b[43m \u001b[49m\u001b[43mstart\u001b[49m\n\u001b[0;32m    139\u001b[0m y \u001b[38;5;241m=\u001b[39m _nx\u001b[38;5;241m.\u001b[39marange(\u001b[38;5;241m0\u001b[39m, num, dtype\u001b[38;5;241m=\u001b[39mdt)\u001b[38;5;241m.\u001b[39mreshape((\u001b[38;5;241m-\u001b[39m\u001b[38;5;241m1\u001b[39m,) \u001b[38;5;241m+\u001b[39m (\u001b[38;5;241m1\u001b[39m,) \u001b[38;5;241m*\u001b[39m ndim(delta))\n\u001b[0;32m    140\u001b[0m \u001b[38;5;66;03m# In-place multiplication y *= delta/div is faster, but prevents the multiplicant\u001b[39;00m\n\u001b[0;32m    141\u001b[0m \u001b[38;5;66;03m# from overriding what class is produced, and thus prevents, e.g. use of Quantities,\u001b[39;00m\n\u001b[0;32m    142\u001b[0m \u001b[38;5;66;03m# see gh-7142. Hence, we multiply in place only for standard scalar types.\u001b[39;00m\n",
      "\u001b[1;31mValueError\u001b[0m: operands could not be broadcast together with shapes (2,3) (2,2) "
     ]
    }
   ],
   "source": [
    "# Example 3 - breaking (to illustrate when it breaks)\n",
    "arr1 = [[1, 2], \n",
    "        [3, 4.]]\n",
    "\n",
    "arr2 = [[5, 6, 7], \n",
    "        [8, 9, 10]]\n",
    "\n",
    "np.linspace(arr1,arr2,num=4)"
   ]
  },
  {
   "cell_type": "markdown",
   "metadata": {},
   "source": [
    "**Explanation about example (why it breaks and how to fix it)** -----\n",
    "\n",
    "- Above program breaks due the arr1 and arr2 has to have the same shape or can be broadcasted to the same shape if we want to\n",
    "  perform np.linspace on them.\n",
    "- But as you can see arr1.shape = (2,2) and arr2.shape = (2,3). It is clear they dont have same shape and cannot be broadcasted to same shape."
   ]
  },
  {
   "cell_type": "markdown",
   "metadata": {},
   "source": [
    "Closing Comments on the np.linspace() function, \n",
    "- I think this function has a really strong usecase in stats and probab.\n",
    "\n",
    "- I loved and this function. And i am very excited to use this function i dont know why."
   ]
  },
  {
   "cell_type": "code",
   "execution_count": 16,
   "metadata": {},
   "outputs": [
    {
     "data": {
      "application/javascript": [
       "window.require && require([\"base/js/namespace\"],function(Jupyter){Jupyter.notebook.save_checkpoint()})"
      ],
      "text/plain": [
       "<IPython.core.display.Javascript object>"
      ]
     },
     "metadata": {},
     "output_type": "display_data"
    },
    {
     "name": "stdout",
     "output_type": "stream",
     "text": [
      "[jovian] Updating notebook \"gyan313/numpy-array-operations\" on https://jovian.com/\u001b[0m\n",
      "[jovian] Committed successfully! https://jovian.com/gyan313/numpy-array-operations\u001b[0m\n"
     ]
    },
    {
     "data": {
      "text/plain": [
       "'https://jovian.com/gyan313/numpy-array-operations'"
      ]
     },
     "execution_count": 16,
     "metadata": {},
     "output_type": "execute_result"
    }
   ],
   "source": [
    "jovian.commit()"
   ]
  },
  {
   "cell_type": "markdown",
   "metadata": {},
   "source": [
    "## Function 2 - numpy.mean\n",
    "\n",
    "- From the realm of the Statistics.\n",
    "- Compute the arithmetic mean along the specified axis.\n",
    "\n",
    ">Syntax --- numpy.mean(a,axis=None,dtype=None,out=None,keepdims=no_value, *,where=no_value).\n",
    "- a : array whose elements mean is desired.\n",
    "- axis : towards which axis mean you want.Here you can pass a tuple of int to show which axes you want the mean.\n",
    "- dtype : type of the resulting mean.\n",
    "- out : you can provide an array here in which returned array is going to be saved.This array has to be of same shape as the   retuned array.\n",
    "- keepdims : The dimension of the `a` remains same even though array reduced to a scalar or other shapes.\n",
    "Ex  ----  if a = [[1,2,3],[2,4,5]] than after np.mean(a,keepdims=True) result will be [[3.5]]. See result array remains a 2-D matrix.\n",
    "- where : Elements to include in the mean. It takes value of array consist of booleans."
   ]
  },
  {
   "cell_type": "code",
   "execution_count": 18,
   "metadata": {},
   "outputs": [
    {
     "data": {
      "text/plain": [
       "array([1.])"
      ]
     },
     "execution_count": 18,
     "metadata": {},
     "output_type": "execute_result"
    }
   ],
   "source": [
    "# Example 1 - working\n",
    "result=np.mean([1,2,3],keepdims=True,where=[True,False,False])\n",
    "result"
   ]
  },
  {
   "cell_type": "markdown",
   "metadata": {},
   "source": [
    "Explanation about example,,,\n",
    "- You see above a = [1,2,3] and we keepdim = True meaning result array dimensions will going to be same as `a`.\n",
    "- We did where = [True,False,False] it means we only want mean of number which is at position where we put `True`. And we just put True for 1. And mean of 1 is 1(int) by default converted to float64 (1.)"
   ]
  },
  {
   "cell_type": "code",
   "execution_count": 36,
   "metadata": {},
   "outputs": [
    {
     "data": {
      "text/plain": [
       "array([3, 6])"
      ]
     },
     "execution_count": 36,
     "metadata": {},
     "output_type": "execute_result"
    }
   ],
   "source": [
    "# for axis = 1 \n",
    "np.mean([[2,3,4],[5,6,7]],axis=1,dtype=int) \n",
    "\n",
    "# for axis=0 \n",
    "np.mean([[2,3,4],[5,6,7]],axis=0)"
   ]
  },
  {
   "cell_type": "markdown",
   "metadata": {},
   "source": [
    "Explanation about example"
   ]
  },
  {
   "cell_type": "code",
   "execution_count": 35,
   "metadata": {},
   "outputs": [
    {
     "ename": "ValueError",
     "evalue": "operand was set up as a reduction along axis 0, but the length of the axis is 2 (it has to be 1)",
     "output_type": "error",
     "traceback": [
      "\u001b[1;31m---------------------------------------------------------------------------\u001b[0m",
      "\u001b[1;31mValueError\u001b[0m                                Traceback (most recent call last)",
      "Cell \u001b[1;32mIn[35], line 6\u001b[0m\n\u001b[0;32m      1\u001b[0m \u001b[38;5;66;03m# Example 3 - breaking (to illustrate when it breaks)\u001b[39;00m\n\u001b[0;32m      2\u001b[0m \u001b[38;5;66;03m# using \"out\" positional argument can cause error so its better to store resultant array in a variable rather using \"out=\".\u001b[39;00m\n\u001b[0;32m      4\u001b[0m result \u001b[38;5;241m=\u001b[39m np\u001b[38;5;241m.\u001b[39mempty([\u001b[38;5;241m2\u001b[39m,\u001b[38;5;241m3\u001b[39m])\n\u001b[1;32m----> 6\u001b[0m \u001b[43mnp\u001b[49m\u001b[38;5;241;43m.\u001b[39;49m\u001b[43mmean\u001b[49m\u001b[43m(\u001b[49m\u001b[43m[\u001b[49m\u001b[43m[\u001b[49m\u001b[38;5;241;43m2\u001b[39;49m\u001b[43m,\u001b[49m\u001b[38;5;241;43m3\u001b[39;49m\u001b[43m,\u001b[49m\u001b[38;5;241;43m4\u001b[39;49m\u001b[43m]\u001b[49m\u001b[43m,\u001b[49m\u001b[43m[\u001b[49m\u001b[38;5;241;43m5\u001b[39;49m\u001b[43m,\u001b[49m\u001b[38;5;241;43m6\u001b[39;49m\u001b[43m,\u001b[49m\u001b[38;5;241;43m7\u001b[39;49m\u001b[43m]\u001b[49m\u001b[43m]\u001b[49m\u001b[43m,\u001b[49m\u001b[43maxis\u001b[49m\u001b[38;5;241;43m=\u001b[39;49m\u001b[38;5;241;43m0\u001b[39;49m\u001b[43m,\u001b[49m\u001b[43mdtype\u001b[49m\u001b[38;5;241;43m=\u001b[39;49m\u001b[38;5;28;43mint\u001b[39;49m\u001b[43m,\u001b[49m\u001b[43mout\u001b[49m\u001b[38;5;241;43m=\u001b[39;49m\u001b[43mresult\u001b[49m\u001b[43m,\u001b[49m\u001b[43mkeepdims\u001b[49m\u001b[38;5;241;43m=\u001b[39;49m\u001b[38;5;28;43;01mTrue\u001b[39;49;00m\u001b[43m)\u001b[49m\n",
      "File \u001b[1;32m<__array_function__ internals>:200\u001b[0m, in \u001b[0;36mmean\u001b[1;34m(*args, **kwargs)\u001b[0m\n",
      "File \u001b[1;32m~\\AppData\\Roaming\\Python\\Python310\\site-packages\\numpy\\core\\fromnumeric.py:3464\u001b[0m, in \u001b[0;36mmean\u001b[1;34m(a, axis, dtype, out, keepdims, where)\u001b[0m\n\u001b[0;32m   3461\u001b[0m     \u001b[38;5;28;01melse\u001b[39;00m:\n\u001b[0;32m   3462\u001b[0m         \u001b[38;5;28;01mreturn\u001b[39;00m mean(axis\u001b[38;5;241m=\u001b[39maxis, dtype\u001b[38;5;241m=\u001b[39mdtype, out\u001b[38;5;241m=\u001b[39mout, \u001b[38;5;241m*\u001b[39m\u001b[38;5;241m*\u001b[39mkwargs)\n\u001b[1;32m-> 3464\u001b[0m \u001b[38;5;28;01mreturn\u001b[39;00m _methods\u001b[38;5;241m.\u001b[39m_mean(a, axis\u001b[38;5;241m=\u001b[39maxis, dtype\u001b[38;5;241m=\u001b[39mdtype,\n\u001b[0;32m   3465\u001b[0m                       out\u001b[38;5;241m=\u001b[39mout, \u001b[38;5;241m*\u001b[39m\u001b[38;5;241m*\u001b[39mkwargs)\n",
      "File \u001b[1;32m~\\AppData\\Roaming\\Python\\Python310\\site-packages\\numpy\\core\\_methods.py:181\u001b[0m, in \u001b[0;36m_mean\u001b[1;34m(a, axis, dtype, out, keepdims, where)\u001b[0m\n\u001b[0;32m    178\u001b[0m         dtype \u001b[38;5;241m=\u001b[39m mu\u001b[38;5;241m.\u001b[39mdtype(\u001b[38;5;124m'\u001b[39m\u001b[38;5;124mf4\u001b[39m\u001b[38;5;124m'\u001b[39m)\n\u001b[0;32m    179\u001b[0m         is_float16_result \u001b[38;5;241m=\u001b[39m \u001b[38;5;28;01mTrue\u001b[39;00m\n\u001b[1;32m--> 181\u001b[0m ret \u001b[38;5;241m=\u001b[39m \u001b[43mumr_sum\u001b[49m\u001b[43m(\u001b[49m\u001b[43marr\u001b[49m\u001b[43m,\u001b[49m\u001b[43m \u001b[49m\u001b[43maxis\u001b[49m\u001b[43m,\u001b[49m\u001b[43m \u001b[49m\u001b[43mdtype\u001b[49m\u001b[43m,\u001b[49m\u001b[43m \u001b[49m\u001b[43mout\u001b[49m\u001b[43m,\u001b[49m\u001b[43m \u001b[49m\u001b[43mkeepdims\u001b[49m\u001b[43m,\u001b[49m\u001b[43m \u001b[49m\u001b[43mwhere\u001b[49m\u001b[38;5;241;43m=\u001b[39;49m\u001b[43mwhere\u001b[49m\u001b[43m)\u001b[49m\n\u001b[0;32m    182\u001b[0m \u001b[38;5;28;01mif\u001b[39;00m \u001b[38;5;28misinstance\u001b[39m(ret, mu\u001b[38;5;241m.\u001b[39mndarray):\n\u001b[0;32m    183\u001b[0m     \u001b[38;5;28;01mwith\u001b[39;00m _no_nep50_warning():\n",
      "\u001b[1;31mValueError\u001b[0m: operand was set up as a reduction along axis 0, but the length of the axis is 2 (it has to be 1)"
     ]
    }
   ],
   "source": [
    "# Example 3 - breaking (to illustrate when it breaks)\n",
    "# using \"out\" positional argument can cause error so its better to store resultant array in a variable rather using \"out=\".\n",
    "\n",
    "result = np.empty([2,3])\n",
    "\n",
    "np.mean([[2,3,4],[5,6,7]],axis=0,dtype=int,out=result,keepdims=True) "
   ]
  },
  {
   "cell_type": "markdown",
   "metadata": {},
   "source": [
    "Explanation about example (why it breaks and how to fix it),,,\n",
    "\n",
    "To fix this, try to avoid using `out=` **positional argument** in mean function.Just use manually make a variable and than store that returned array of the np.mean() function.\n",
    "Example ....\n",
    "```python\n",
    "result=np.mean([1,2,3],keepdims=True)\n",
    "print(result)\n",
    "```"
   ]
  },
  {
   "cell_type": "markdown",
   "metadata": {},
   "source": [
    "Some closing comments about when to use this function.\n",
    "> Use this function when you want to find average of numbers in a numpy array (whole or about specific axis) or you are doing statistics problems."
   ]
  },
  {
   "cell_type": "code",
   "execution_count": 37,
   "metadata": {},
   "outputs": [
    {
     "data": {
      "application/javascript": [
       "window.require && require([\"base/js/namespace\"],function(Jupyter){Jupyter.notebook.save_checkpoint()})"
      ],
      "text/plain": [
       "<IPython.core.display.Javascript object>"
      ]
     },
     "metadata": {},
     "output_type": "display_data"
    },
    {
     "name": "stdout",
     "output_type": "stream",
     "text": [
      "[jovian] Updating notebook \"gyan313/numpy-array-operations\" on https://jovian.com/\u001b[0m\n",
      "[jovian] Committed successfully! https://jovian.com/gyan313/numpy-array-operations\u001b[0m\n"
     ]
    },
    {
     "data": {
      "text/plain": [
       "'https://jovian.com/gyan313/numpy-array-operations'"
      ]
     },
     "execution_count": 37,
     "metadata": {},
     "output_type": "execute_result"
    }
   ],
   "source": [
    "jovian.commit()"
   ]
  },
  {
   "cell_type": "markdown",
   "metadata": {},
   "source": [
    "## Function 3 - numpy.empty\n",
    "\n",
    "***Introduction***\n",
    "\n",
    "> Syntax : numpy.empty(shape,dtype=float64,order='c',like=None)\n",
    "- numpy.empty() returns a new array with given shape and data-type without initializing any element of the array.\n",
    "- shape : shape of the empty array `eg.. (2,3) or 2 or (2,3,4)` give shapes of any dimension array.\n",
    "- dtype : desired data-type for the output array we get.\n",
    "- ORDER : this parameter specifies in which order does the array gets stored in the memory.There are basically 2 types of orders\n",
    "F and C . By default it is C here.\n",
    "- C (C language style order) is row-major column, this means that elements of a multi-dimensional array are stored consecutively along each row. The next row follows immediately after the previous row in memory.\n",
    "- F (Fortran-style order): In Fortran-style order, multi-dimensional arrays are stored in column-major order. This means that elements of a multi-dimensional array are stored consecutively along each column. The next column follows immediately after the previous column in memory. \n",
    "- like : Reference object to allow the creation of arrays which are not NumPy arrays. More read on docs.But i still dont understand what does it do in empty() function."
   ]
  },
  {
   "cell_type": "code",
   "execution_count": 3,
   "metadata": {},
   "outputs": [
    {
     "data": {
      "text/plain": [
       "array([-1998362383,  1055193269])"
      ]
     },
     "execution_count": 3,
     "metadata": {},
     "output_type": "execute_result"
    }
   ],
   "source": [
    "# Example 1 - working\n",
    "import numpy as np\n",
    "\n",
    "# A 1-D array.\n",
    "result=np.empty(2,dtype=int)\n",
    "result"
   ]
  },
  {
   "cell_type": "markdown",
   "metadata": {},
   "source": [
    "Explanation about example"
   ]
  },
  {
   "cell_type": "code",
   "execution_count": 5,
   "metadata": {},
   "outputs": [
    {
     "data": {
      "text/plain": [
       "array([[['', '', '', ''],\n",
       "        ['', '', '', ''],\n",
       "        ['', '', '', '']],\n",
       "\n",
       "       [['', '', '', ''],\n",
       "        ['', '', '', ''],\n",
       "        ['', '', '', '']]], dtype='<U1')"
      ]
     },
     "execution_count": 5,
     "metadata": {},
     "output_type": "execute_result"
    }
   ],
   "source": [
    "# Example 2 - working\n",
    "\n",
    "# A 3-D array\n",
    "np.empty([2,3,4],dtype=str,order=\"F\")"
   ]
  },
  {
   "cell_type": "markdown",
   "metadata": {},
   "source": [
    "Explanation about example"
   ]
  },
  {
   "cell_type": "code",
   "execution_count": 6,
   "metadata": {},
   "outputs": [
    {
     "ename": "TypeError",
     "evalue": "Cannot interpret '3' as a data type",
     "output_type": "error",
     "traceback": [
      "\u001b[1;31m---------------------------------------------------------------------------\u001b[0m",
      "\u001b[1;31mTypeError\u001b[0m                                 Traceback (most recent call last)",
      "Cell \u001b[1;32mIn[6], line 3\u001b[0m\n\u001b[0;32m      1\u001b[0m \u001b[38;5;66;03m# Example 3 - breaking (to illustrate when it breaks)\u001b[39;00m\n\u001b[1;32m----> 3\u001b[0m \u001b[43mnp\u001b[49m\u001b[38;5;241;43m.\u001b[39;49m\u001b[43mempty\u001b[49m\u001b[43m(\u001b[49m\u001b[38;5;241;43m2\u001b[39;49m\u001b[43m,\u001b[49m\u001b[38;5;241;43m3\u001b[39;49m\u001b[43m)\u001b[49m\n",
      "\u001b[1;31mTypeError\u001b[0m: Cannot interpret '3' as a data type"
     ]
    }
   ],
   "source": [
    "# Example 3 - breaking (to illustrate when it breaks)\n",
    "\n",
    "np.empty(2,3)"
   ]
  },
  {
   "cell_type": "markdown",
   "metadata": {},
   "source": [
    "Explanation about example (why it breaks and how to fix it),\n",
    "\n",
    "`Breaking point here is that we need to pass a list of comma seperated dimensions(shape) for the empty array to be made.But i passed a tuple of values or shape inside a tuple.`"
   ]
  },
  {
   "cell_type": "markdown",
   "metadata": {},
   "source": [
    "**Some closing comments about when to use this function.**\n",
    "\n",
    "The `np.empty()` function in NumPy is typically used when you want to create a new array with a specified shape without initializing its elements with any specific values. The function allocates the required memory for the array without setting the values of its elements, leaving them in an unspecified state. It can be useful when you plan to populate the array with values later or when you want to ensure efficient memory allocation.\n",
    "\n",
    "Here are a few scenarios where you might use `np.empty()`:\n",
    "\n",
    "1. Pre-allocation: If you know the shape of the array you need, but you don't have initial values to assign to its elements, you can use `np.empty()` to allocate the memory for the array. Later, you can assign values to the array elements using indexing or other operations.\n",
    "\n",
    "2. Performance optimization: In certain cases, initializing a large array with specific initial values can be time-consuming. If you don't require specific initial values and can guarantee that the array will be filled with appropriate values later, using `np.empty()` can offer a performance advantage by skipping the initialization step.\n",
    "\n",
    "3. Temporary storage: Sometimes, you might need temporary storage for intermediate results during computations. `np.empty()` can be useful in such cases to allocate memory for the intermediate arrays without incurring the overhead of initializing them.\n",
    "\n",
    "Here's an example that demonstrates the usage of `np.empty()`:\n",
    "\n",
    "```python\n",
    "import numpy as np\n",
    "\n",
    "# Create a 2D array of shape (3, 4) using np.empty()\n",
    "arr = np.empty((3, 4))\n",
    "\n",
    "# Populate the array with values later\n",
    "arr[0, 0] = 1\n",
    "arr[1, 2] = 3\n",
    "arr[2, 3] = 4\n",
    "\n",
    "print(arr)\n",
    "```\n",
    "\n",
    "Output:\n",
    "```\n",
    "[[1. 0. 0. 0.]\n",
    " [0. 0. 3. 0.]\n",
    " [0. 0. 0. 4.]]\n",
    "```\n",
    "\n",
    "In this example, `np.empty((3, 4))` creates a 2D array with shape (3, 4) without initializing its elements. Later, specific values are assigned to some of the array elements. The output shows the resulting array with the assigned values and the remaining elements in an unspecified state.\n",
    "\n",
    "It's important to note that the values in an array created with `np.empty()` are unpredictable and can vary depending on the state of the memory at the time of array creation."
   ]
  },
  {
   "cell_type": "code",
   "execution_count": 7,
   "metadata": {},
   "outputs": [
    {
     "data": {
      "application/javascript": [
       "window.require && require([\"base/js/namespace\"],function(Jupyter){Jupyter.notebook.save_checkpoint()})"
      ],
      "text/plain": [
       "<IPython.core.display.Javascript object>"
      ]
     },
     "metadata": {},
     "output_type": "display_data"
    },
    {
     "name": "stdout",
     "output_type": "stream",
     "text": [
      "[jovian] Updating notebook \"gyan313/numpy-array-operations\" on https://jovian.com/\u001b[0m\n",
      "[jovian] Committed successfully! https://jovian.com/gyan313/numpy-array-operations\u001b[0m\n"
     ]
    },
    {
     "data": {
      "text/plain": [
       "'https://jovian.com/gyan313/numpy-array-operations'"
      ]
     },
     "execution_count": 7,
     "metadata": {},
     "output_type": "execute_result"
    }
   ],
   "source": [
    "jovian.commit()"
   ]
  },
  {
   "cell_type": "markdown",
   "metadata": {},
   "source": [
    "## Function 4 - numpy.array\n",
    "\n",
    "> Syntax ---- numpy.array(object, dtype=None, copy=True, order='K', subok=False, ndmin=0, like=None) \n",
    "\n",
    "- object : is a something which can be converted to numpy array, this value must be a value when passed through __array__ method returns an array.\n",
    "- dtype : data type of the element in the output array.If not provided numpy apply default value accordingly.\n",
    "- Copy : If True, means the object array you passed is copied else not copied.\n",
    "- ndmin : it is the minimum no. of dimensions that the resulting array must have.\n",
    "- subok : if it is True than you can pass any sub-class inside array() to make a new array.Ex ==== np.array(np.mat('1 2;3 5')) . Output === matrix([[1,2],[3,4]]).\n",
    "- Refer other parameters from docs."
   ]
  },
  {
   "cell_type": "code",
   "execution_count": 16,
   "metadata": {},
   "outputs": [
    {
     "name": "stdout",
     "output_type": "stream",
     "text": [
      "Result : [[1 2 3]\n",
      " [4 5 6]]\n",
      "\n",
      "Output: [1.+0.j 3.+0.j 4.+0.j]\n"
     ]
    }
   ],
   "source": [
    "# Example 1 - working\n",
    "\n",
    "result=np.array([[1,2,3],[4,5,6]],dtype=int)\n",
    "print(f\"Result : {result}\\n\")\n",
    "\n",
    "# dtype = complex is complex numbers in math.\n",
    "output=np.array([1,3,4],dtype=complex)\n",
    "print(f\"Output: {output}\")"
   ]
  },
  {
   "cell_type": "markdown",
   "metadata": {},
   "source": [
    "Explanation about example"
   ]
  },
  {
   "cell_type": "code",
   "execution_count": 11,
   "metadata": {},
   "outputs": [
    {
     "data": {
      "text/plain": [
       "array([[1, 2, 3],\n",
       "       [5, 6, 7]])"
      ]
     },
     "execution_count": 11,
     "metadata": {},
     "output_type": "execute_result"
    }
   ],
   "source": [
    "# Example 2 - working\n",
    "\n",
    "# When subok=True\n",
    "np.array(np.mat('1 2 3;5 6 7'),subok=True)\n",
    "\n",
    "# when subok = False\n",
    "np.array(np.mat('1 2 3;5 6 7'),subok=False)"
   ]
  },
  {
   "cell_type": "markdown",
   "metadata": {},
   "source": [
    "Explanation about example,\n",
    "\n",
    "Above we played with subok named parameter of np.array(). Here np.mat is a sub-class of np.array."
   ]
  },
  {
   "cell_type": "code",
   "execution_count": 24,
   "metadata": {},
   "outputs": [
    {
     "ename": "TypeError",
     "evalue": "array() takes from 1 to 2 positional arguments but 3 were given",
     "output_type": "error",
     "traceback": [
      "\u001b[1;31m---------------------------------------------------------------------------\u001b[0m",
      "\u001b[1;31mTypeError\u001b[0m                                 Traceback (most recent call last)",
      "Cell \u001b[1;32mIn[24], line 5\u001b[0m\n\u001b[0;32m      1\u001b[0m \u001b[38;5;66;03m# Example 3 - breaking (to illustrate when it breaks)\u001b[39;00m\n\u001b[0;32m      2\u001b[0m \n\u001b[0;32m      3\u001b[0m \u001b[38;5;66;03m# np.array([[[1,2,3]]],ndmin=2)  ----> doesnt break here.\u001b[39;00m\n\u001b[1;32m----> 5\u001b[0m \u001b[43mnp\u001b[49m\u001b[38;5;241;43m.\u001b[39;49m\u001b[43marray\u001b[49m\u001b[43m(\u001b[49m\u001b[38;5;241;43m1\u001b[39;49m\u001b[43m,\u001b[49m\u001b[38;5;241;43m2\u001b[39;49m\u001b[43m,\u001b[49m\u001b[38;5;241;43m3\u001b[39;49m\u001b[43m)\u001b[49m\n",
      "\u001b[1;31mTypeError\u001b[0m: array() takes from 1 to 2 positional arguments but 3 were given"
     ]
    }
   ],
   "source": [
    "# Example 3 - breaking (to illustrate when it breaks)\n",
    "\n",
    "# np.array([[[1,2,3]]],ndmin=2)  ----> doesnt break here.\n",
    "\n",
    "np.array(1,2,3)"
   ]
  },
  {
   "cell_type": "markdown",
   "metadata": {},
   "source": [
    "Explanation about example (why it breaks and how to fix it)\n",
    "\n",
    "When using the `np.array()` function in NumPy, there are a few scenarios that can cause errors or unexpected behavior. Here are some common breaking points to be aware of:\n",
    "\n",
    "1. Incorrect Input Format: The input to `np.array()` should be a single iterable object, such as a list, tuple, or array-like. Providing invalid input, such as multiple arguments or non-iterable objects, will result in a `TypeError` or unexpected behavior. For example:\n",
    "   ```python\n",
    "   arr = np.array(1, 2, 3)  # Error: TypeError: array() takes from 1 to 2 positional arguments but 3 were given\n",
    "   ```\n",
    "\n",
    "2. Inconsistent Dimensions: If the input array-like object has inconsistent dimensions (e.g., nested lists with varying lengths), NumPy will not be able to create a multidimensional array, and a `ValueError` will be raised. For example:\n",
    "   ```python\n",
    "   arr = np.array([[1, 2], [3, 4, 5]])  # Error: ValueError: setting an array element with a sequence.\n",
    "   ```\n",
    "\n",
    "3. Unsupported Data Types: NumPy arrays require homogeneous data types, meaning all elements should have the same data type. If the input data has elements with incompatible types, NumPy may raise a `TypeError` or perform type coercion to create the array. For example:\n",
    "   ```python\n",
    "   arr = np.array([1, 2, '3'])  # dtype is coerced to object due to mixed data types\n",
    "   ```\n",
    "\n",
    "4. Insufficient Memory: Creating large arrays with `np.array()` may lead to `MemoryError` if there is insufficient memory available to accommodate the requested array size. This typically occurs when working with very large data or exceeding the available system memory.\n"
   ]
  },
  {
   "cell_type": "markdown",
   "metadata": {},
   "source": [
    "**Some closing comments about when to use this function.**\n",
    "\n",
    "- This np.array() function is the starting point of learning about numpy arrays.\n",
    "- very usefull way to make numpy arrays.Almost everytime we use it make arrays in numpy library."
   ]
  },
  {
   "cell_type": "code",
   "execution_count": 25,
   "metadata": {},
   "outputs": [
    {
     "data": {
      "application/javascript": [
       "window.require && require([\"base/js/namespace\"],function(Jupyter){Jupyter.notebook.save_checkpoint()})"
      ],
      "text/plain": [
       "<IPython.core.display.Javascript object>"
      ]
     },
     "metadata": {},
     "output_type": "display_data"
    },
    {
     "name": "stdout",
     "output_type": "stream",
     "text": [
      "[jovian] Updating notebook \"gyan313/numpy-array-operations\" on https://jovian.com/\u001b[0m\n",
      "[jovian] Committed successfully! https://jovian.com/gyan313/numpy-array-operations\u001b[0m\n"
     ]
    },
    {
     "data": {
      "text/plain": [
       "'https://jovian.com/gyan313/numpy-array-operations'"
      ]
     },
     "execution_count": 25,
     "metadata": {},
     "output_type": "execute_result"
    }
   ],
   "source": [
    "jovian.commit()"
   ]
  },
  {
   "cell_type": "markdown",
   "metadata": {},
   "source": [
    "## Function 5 - numpy.reshape\n",
    "\n",
    "> Sytax ----- numpy.reshape(a, newshape, order='C')\n",
    "- Gives new shape to an array without changing its data.\n",
    "- a : array to be reshaped\n",
    "- newshape : new shape must be compatible with the original shape.You can pass different dimensions in a tuple.Eg..... np.reshape(aarray,(2,3,4)).\n"
   ]
  },
  {
   "cell_type": "code",
   "execution_count": 32,
   "metadata": {},
   "outputs": [
    {
     "data": {
      "text/plain": [
       "array([[1],\n",
       "       [2],\n",
       "       [3],\n",
       "       [4],\n",
       "       [5],\n",
       "       [6]])"
      ]
     },
     "execution_count": 32,
     "metadata": {},
     "output_type": "execute_result"
    }
   ],
   "source": [
    "# Example 1 - working\n",
    "\n",
    "arr=np.array([[1,2,3],\n",
    "             [4,5,6]])\n",
    "\n",
    "# See above is a matrix of size = 6. So, you can only reshape it into another array with same size 6 not more not less.\n",
    "# Meaning shape = 6,(1,6),(6,1),(2,3),(3,2)\n",
    "np.reshape(arr,(6,1))"
   ]
  },
  {
   "cell_type": "markdown",
   "metadata": {},
   "source": [
    "Explanation about example"
   ]
  },
  {
   "cell_type": "code",
   "execution_count": 43,
   "metadata": {},
   "outputs": [
    {
     "data": {
      "text/plain": [
       "array([[[1],\n",
       "        [3],\n",
       "        [5],\n",
       "        [7],\n",
       "        [9]]])"
      ]
     },
     "execution_count": 43,
     "metadata": {},
     "output_type": "execute_result"
    }
   ],
   "source": [
    "# Example 2 - working\n",
    "\n",
    "np.arange(1,10,2).reshape((1,5,1))   \n",
    "\n",
    "# above np.arange produces a evenly spaced array from 1 to 10 with step 2 meaning total 5 elements.\n",
    "# That means now you cannot reshape this array to a array or multi-D array of size > or < 5.\n",
    "# here we just used \".\" operator to pass array in reshape."
   ]
  },
  {
   "cell_type": "markdown",
   "metadata": {},
   "source": [
    "Explanation about example"
   ]
  },
  {
   "cell_type": "code",
   "execution_count": 46,
   "metadata": {},
   "outputs": [
    {
     "ename": "ValueError",
     "evalue": "cannot reshape array of size 9 into shape (2,5)",
     "output_type": "error",
     "traceback": [
      "\u001b[1;31m---------------------------------------------------------------------------\u001b[0m",
      "\u001b[1;31mValueError\u001b[0m                                Traceback (most recent call last)",
      "Cell \u001b[1;32mIn[46], line 6\u001b[0m\n\u001b[0;32m      1\u001b[0m \u001b[38;5;66;03m# Example 3 - breaking (to illustrate when it breaks)\u001b[39;00m\n\u001b[0;32m      2\u001b[0m \n\u001b[0;32m      3\u001b[0m \u001b[38;5;66;03m# Breaking point would be if you didnt reshape the array with same size as the passed array.\u001b[39;00m\n\u001b[0;32m      4\u001b[0m \u001b[38;5;66;03m# Ex --->\u001b[39;00m\n\u001b[1;32m----> 6\u001b[0m \u001b[43mnp\u001b[49m\u001b[38;5;241;43m.\u001b[39;49m\u001b[43mreshape\u001b[49m\u001b[43m(\u001b[49m\u001b[43m[\u001b[49m\u001b[43m[\u001b[49m\u001b[38;5;241;43m1\u001b[39;49m\u001b[43m,\u001b[49m\u001b[38;5;241;43m2\u001b[39;49m\u001b[43m,\u001b[49m\u001b[38;5;241;43m3\u001b[39;49m\u001b[43m]\u001b[49m\u001b[43m,\u001b[49m\u001b[43m[\u001b[49m\u001b[38;5;241;43m2\u001b[39;49m\u001b[43m,\u001b[49m\u001b[38;5;241;43m3\u001b[39;49m\u001b[43m,\u001b[49m\u001b[38;5;241;43m4\u001b[39;49m\u001b[43m]\u001b[49m\u001b[43m,\u001b[49m\u001b[43m[\u001b[49m\u001b[38;5;241;43m4\u001b[39;49m\u001b[43m,\u001b[49m\u001b[38;5;241;43m6\u001b[39;49m\u001b[43m,\u001b[49m\u001b[38;5;241;43m7\u001b[39;49m\u001b[43m]\u001b[49m\u001b[43m]\u001b[49m\u001b[43m,\u001b[49m\u001b[43m(\u001b[49m\u001b[38;5;241;43m2\u001b[39;49m\u001b[43m,\u001b[49m\u001b[38;5;241;43m5\u001b[39;49m\u001b[43m)\u001b[49m\u001b[43m)\u001b[49m\n",
      "File \u001b[1;32m<__array_function__ internals>:200\u001b[0m, in \u001b[0;36mreshape\u001b[1;34m(*args, **kwargs)\u001b[0m\n",
      "File \u001b[1;32m~\\AppData\\Roaming\\Python\\Python310\\site-packages\\numpy\\core\\fromnumeric.py:298\u001b[0m, in \u001b[0;36mreshape\u001b[1;34m(a, newshape, order)\u001b[0m\n\u001b[0;32m    198\u001b[0m \u001b[38;5;129m@array_function_dispatch\u001b[39m(_reshape_dispatcher)\n\u001b[0;32m    199\u001b[0m \u001b[38;5;28;01mdef\u001b[39;00m \u001b[38;5;21mreshape\u001b[39m(a, newshape, order\u001b[38;5;241m=\u001b[39m\u001b[38;5;124m'\u001b[39m\u001b[38;5;124mC\u001b[39m\u001b[38;5;124m'\u001b[39m):\n\u001b[0;32m    200\u001b[0m     \u001b[38;5;124;03m\"\"\"\u001b[39;00m\n\u001b[0;32m    201\u001b[0m \u001b[38;5;124;03m    Gives a new shape to an array without changing its data.\u001b[39;00m\n\u001b[0;32m    202\u001b[0m \n\u001b[1;32m   (...)\u001b[0m\n\u001b[0;32m    296\u001b[0m \u001b[38;5;124;03m           [5, 6]])\u001b[39;00m\n\u001b[0;32m    297\u001b[0m \u001b[38;5;124;03m    \"\"\"\u001b[39;00m\n\u001b[1;32m--> 298\u001b[0m     \u001b[38;5;28;01mreturn\u001b[39;00m \u001b[43m_wrapfunc\u001b[49m\u001b[43m(\u001b[49m\u001b[43ma\u001b[49m\u001b[43m,\u001b[49m\u001b[43m \u001b[49m\u001b[38;5;124;43m'\u001b[39;49m\u001b[38;5;124;43mreshape\u001b[39;49m\u001b[38;5;124;43m'\u001b[39;49m\u001b[43m,\u001b[49m\u001b[43m \u001b[49m\u001b[43mnewshape\u001b[49m\u001b[43m,\u001b[49m\u001b[43m \u001b[49m\u001b[43morder\u001b[49m\u001b[38;5;241;43m=\u001b[39;49m\u001b[43morder\u001b[49m\u001b[43m)\u001b[49m\n",
      "File \u001b[1;32m~\\AppData\\Roaming\\Python\\Python310\\site-packages\\numpy\\core\\fromnumeric.py:54\u001b[0m, in \u001b[0;36m_wrapfunc\u001b[1;34m(obj, method, *args, **kwds)\u001b[0m\n\u001b[0;32m     52\u001b[0m bound \u001b[38;5;241m=\u001b[39m \u001b[38;5;28mgetattr\u001b[39m(obj, method, \u001b[38;5;28;01mNone\u001b[39;00m)\n\u001b[0;32m     53\u001b[0m \u001b[38;5;28;01mif\u001b[39;00m bound \u001b[38;5;129;01mis\u001b[39;00m \u001b[38;5;28;01mNone\u001b[39;00m:\n\u001b[1;32m---> 54\u001b[0m     \u001b[38;5;28;01mreturn\u001b[39;00m _wrapit(obj, method, \u001b[38;5;241m*\u001b[39margs, \u001b[38;5;241m*\u001b[39m\u001b[38;5;241m*\u001b[39mkwds)\n\u001b[0;32m     56\u001b[0m \u001b[38;5;28;01mtry\u001b[39;00m:\n\u001b[0;32m     57\u001b[0m     \u001b[38;5;28;01mreturn\u001b[39;00m bound(\u001b[38;5;241m*\u001b[39margs, \u001b[38;5;241m*\u001b[39m\u001b[38;5;241m*\u001b[39mkwds)\n",
      "File \u001b[1;32m~\\AppData\\Roaming\\Python\\Python310\\site-packages\\numpy\\core\\fromnumeric.py:43\u001b[0m, in \u001b[0;36m_wrapit\u001b[1;34m(obj, method, *args, **kwds)\u001b[0m\n\u001b[0;32m     41\u001b[0m \u001b[38;5;28;01mexcept\u001b[39;00m \u001b[38;5;167;01mAttributeError\u001b[39;00m:\n\u001b[0;32m     42\u001b[0m     wrap \u001b[38;5;241m=\u001b[39m \u001b[38;5;28;01mNone\u001b[39;00m\n\u001b[1;32m---> 43\u001b[0m result \u001b[38;5;241m=\u001b[39m \u001b[38;5;28mgetattr\u001b[39m(asarray(obj), method)(\u001b[38;5;241m*\u001b[39margs, \u001b[38;5;241m*\u001b[39m\u001b[38;5;241m*\u001b[39mkwds)\n\u001b[0;32m     44\u001b[0m \u001b[38;5;28;01mif\u001b[39;00m wrap:\n\u001b[0;32m     45\u001b[0m     \u001b[38;5;28;01mif\u001b[39;00m \u001b[38;5;129;01mnot\u001b[39;00m \u001b[38;5;28misinstance\u001b[39m(result, mu\u001b[38;5;241m.\u001b[39mndarray):\n",
      "\u001b[1;31mValueError\u001b[0m: cannot reshape array of size 9 into shape (2,5)"
     ]
    }
   ],
   "source": [
    "# Example 3 - breaking (to illustrate when it breaks)\n",
    "\n",
    "# Breaking point would be if you didnt reshape the array with same size as the passed array.\n",
    "# Ex --->\n",
    "\n",
    "np.reshape([[1,2,3],[2,3,4],[4,6,7]],(2,5))\n",
    "\n",
    "# See above passed Multi-D array is of size = 9 and you want to reshape it into size = 2*3 = 6.\n",
    "# Not acceptable."
   ]
  },
  {
   "cell_type": "markdown",
   "metadata": {},
   "source": [
    "Explanation about example (why it breaks and how to fix it)"
   ]
  },
  {
   "cell_type": "markdown",
   "metadata": {},
   "source": [
    "Some closing comments about when to use this function."
   ]
  },
  {
   "cell_type": "code",
   "execution_count": 47,
   "metadata": {},
   "outputs": [
    {
     "data": {
      "application/javascript": [
       "window.require && require([\"base/js/namespace\"],function(Jupyter){Jupyter.notebook.save_checkpoint()})"
      ],
      "text/plain": [
       "<IPython.core.display.Javascript object>"
      ]
     },
     "metadata": {},
     "output_type": "display_data"
    },
    {
     "name": "stdout",
     "output_type": "stream",
     "text": [
      "[jovian] Updating notebook \"gyan313/numpy-array-operations\" on https://jovian.com/\u001b[0m\n",
      "[jovian] Committed successfully! https://jovian.com/gyan313/numpy-array-operations\u001b[0m\n"
     ]
    },
    {
     "data": {
      "text/plain": [
       "'https://jovian.com/gyan313/numpy-array-operations'"
      ]
     },
     "execution_count": 47,
     "metadata": {},
     "output_type": "execute_result"
    }
   ],
   "source": [
    "jovian.commit()"
   ]
  },
  {
   "cell_type": "markdown",
   "metadata": {},
   "source": [
    "## Conclusion\n",
    "\n",
    "Summarize what was covered in this notebook,\n",
    "\n",
    "Summary ---\n",
    "\n",
    "- Above we covered 5 functions of numpy array ,now I am not saying they are the most used one or the most important one but one thing i can say for sure is that they are what i really want to learn because i ecountered them in the numpy topic intro.\n",
    "- Those 5 functions are ----\n",
    "\n",
    "> function 1 == numpy.linspace\n",
    "\n",
    "> function 2 == numpy.mean\n",
    "\n",
    "> function 3 == numpy.empty\n",
    "\n",
    "> function 4 == numpy.array\n",
    "\n",
    "> function 5 == numpy.reshape\n",
    "\n",
    "- You can now go and learn the Pandas and do 20 Numpy array functions ques. each day.Good Luck.🤪"
   ]
  },
  {
   "cell_type": "markdown",
   "metadata": {},
   "source": [
    "## Reference Links\n",
    "Provide links to your references and other interesting articles about Numpy arrays:\n",
    "* Numpy official tutorial : https://numpy.org/doc/stable/user/quickstart.html\n"
   ]
  },
  {
   "cell_type": "code",
   "execution_count": null,
   "metadata": {},
   "outputs": [
    {
     "data": {
      "application/javascript": [
       "window.require && require([\"base/js/namespace\"],function(Jupyter){Jupyter.notebook.save_checkpoint()})"
      ],
      "text/plain": [
       "<IPython.core.display.Javascript object>"
      ]
     },
     "metadata": {},
     "output_type": "display_data"
    }
   ],
   "source": [
    "jovian.commit()"
   ]
  },
  {
   "cell_type": "code",
   "execution_count": null,
   "metadata": {},
   "outputs": [],
   "source": []
  }
 ],
 "metadata": {
  "kernelspec": {
   "display_name": "Python 3 (ipykernel)",
   "language": "python",
   "name": "python3"
  },
  "language_info": {
   "codemirror_mode": {
    "name": "ipython",
    "version": 3
   },
   "file_extension": ".py",
   "mimetype": "text/x-python",
   "name": "python",
   "nbconvert_exporter": "python",
   "pygments_lexer": "ipython3",
   "version": "3.10.9"
  }
 },
 "nbformat": 4,
 "nbformat_minor": 4
}
